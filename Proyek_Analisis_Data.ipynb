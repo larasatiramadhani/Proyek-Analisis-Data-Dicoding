{
  "cells": [
    {
      "cell_type": "markdown",
      "metadata": {
        "id": "H9wADwK78DCz"
      },
      "source": [
        "# Proyek Analisis Data: E-Commerce Public Dataset\n",
        "- **Nama:** Larasati Romadhani Yunita Putri\n",
        "- **Email:** m296b4kx2254@bangkit.academy \n",
        "- **ID Dicoding:** GRX5OVNWYP0M"
      ]
    },
    {
      "cell_type": "markdown",
      "metadata": {
        "id": "eE0raob58DC0"
      },
      "source": [
        "## Menentukan Pertanyaan Bisnis"
      ]
    },
    {
      "cell_type": "markdown",
      "metadata": {
        "id": "GmQeQ5YF8DC0"
      },
      "source": [
        "- Produk apa yang paling banyak dan paling sedikit terjual?\n",
        "- Bagaimana fluktuasi penjualan yang terjadi pada e-commerce?\n",
        "- Kota mana saja yang memiliki pembeli terbanyak?\n",
        "- Produk apa yang paling disukai dan yang paling tidak disukai oleh pembeli?"
      ]
    },
    {
      "cell_type": "markdown",
      "metadata": {
        "id": "H-z4QGlO8DC1"
      },
      "source": [
        "## Import Semua Packages/Library yang Digunakan"
      ]
    },
    {
      "cell_type": "code",
      "execution_count": 3,
      "metadata": {
        "id": "FVYwaObI8DC1"
      },
      "outputs": [],
      "source": [
        "import numpy as np\n",
        "import pandas as pd\n",
        "import matplotlib.pyplot as plt\n",
        "import seaborn as sns\n",
        "from sklearn.cluster import KMeans\n",
        "from sklearn.preprocessing import StandardScaler"
      ]
    },
    {
      "cell_type": "markdown",
      "metadata": {
        "id": "h_Sh51Xy8DC1"
      },
      "source": [
        "## Data Wrangling"
      ]
    },
    {
      "cell_type": "markdown",
      "metadata": {
        "id": "sXU2GBYu8DC1"
      },
      "source": [
        "### Gathering Data"
      ]
    },
    {
      "cell_type": "code",
      "execution_count": 4,
      "metadata": {
        "id": "zjCBk1BI8DC1"
      },
      "outputs": [],
      "source": [
        "customer_df = pd.read_csv(\"C:/Users/laras/proyek_analisis_data/E-commerce-public-dataset/E-Commerce Public Dataset/customers_dataset.csv\")\n",
        "order_item_df = pd.read_csv(\"C:/Users/laras/proyek_analisis_data/E-commerce-public-dataset/E-Commerce Public Dataset/order_items_dataset.csv\")\n",
        "review_df = pd.read_csv(\"C:/Users/laras/proyek_analisis_data/E-commerce-public-dataset/E-Commerce Public Dataset/order_reviews_dataset.csv\")\n",
        "purchase_time_df = pd.read_csv(\"C:/Users/laras/proyek_analisis_data/E-commerce-public-dataset/E-Commerce Public Dataset/orders_dataset.csv\")"
      ]
    },
    {
      "cell_type": "markdown",
      "metadata": {
        "id": "MMi6xGaDkbCi"
      },
      "source": [
        "**Insight:**\n",
        "- tabel customer_df akan digunakan untuk menjawab pertantaan ketiga, karena dalam tabel tersebut memuat asal kota dan negara dari setiap customer/pembelinya\n",
        "- tabel order_item_df akan digunakan untuk menjawab pertanyaan pertama, karena di dalam tabel tersebut memuat item apa saja yang berhasil terjual beserta dengan quantity nya. \n",
        "- tabel review_df akan digunakan untuk menjawab pertanyaan keempat, karena didalam tabel tersebut memuat score/rating dari setiap produk yang dijual di e-commerce ini\n",
        "- tabel purchase_time_df akan digunakan untuk menjawab pertanyaan kedua, karena didalam tabel tersebut memuat tanggal dan waktu dari orderan yang berhasil"
      ]
    },
    {
      "cell_type": "markdown",
      "metadata": {
        "id": "FHSiqaZp8DC1"
      },
      "source": [
        "### Assessing Data"
      ]
    },
    {
      "cell_type": "markdown",
      "metadata": {},
      "source": [
        "#### 1.  Menilai Data customer_df"
      ]
    },
    {
      "cell_type": "markdown",
      "metadata": {},
      "source": [
        "##### 1.1. Mencari missing value dan mencocokkan tipe data"
      ]
    },
    {
      "cell_type": "code",
      "execution_count": 5,
      "metadata": {
        "id": "ax-3tEjc9Cj1"
      },
      "outputs": [
        {
          "name": "stdout",
          "output_type": "stream",
          "text": [
            "<class 'pandas.core.frame.DataFrame'>\n",
            "RangeIndex: 99441 entries, 0 to 99440\n",
            "Data columns (total 5 columns):\n",
            " #   Column                    Non-Null Count  Dtype \n",
            "---  ------                    --------------  ----- \n",
            " 0   customer_id               99441 non-null  object\n",
            " 1   customer_unique_id        99441 non-null  object\n",
            " 2   customer_zip_code_prefix  99441 non-null  int64 \n",
            " 3   customer_city             99441 non-null  object\n",
            " 4   customer_state            99441 non-null  object\n",
            "dtypes: int64(1), object(4)\n",
            "memory usage: 3.8+ MB\n"
          ]
        }
      ],
      "source": [
        "customer_df.info()"
      ]
    },
    {
      "cell_type": "markdown",
      "metadata": {},
      "source": [
        "Insight:\n",
        "- Pada customer_df tidak terdapat missing value, hal ini dibuktikan pada kolom Non-Null yang menunjukkan jumlah datanya sama dari setiap kolom yang ada. \n",
        "- Pada tabel ini juga tidak terdapat tipe data yang salah, id yang tercantum memiliki karakter huruf sehingga id tersebut terbaca sebagai tipe data object."
      ]
    },
    {
      "cell_type": "markdown",
      "metadata": {},
      "source": [
        "##### 1.2. Menghitung duplikasi"
      ]
    },
    {
      "cell_type": "code",
      "execution_count": 6,
      "metadata": {},
      "outputs": [
        {
          "name": "stdout",
          "output_type": "stream",
          "text": [
            "tidak terdapat duplikasi\n"
          ]
        }
      ],
      "source": [
        "def count_duplicate(df):\n",
        "    duplicate = df.duplicated().sum()\n",
        "    if duplicate == 0:\n",
        "        print('tidak terdapat duplikasi')\n",
        "    else:\n",
        "        print('terdapat duplikasi sebanyak:', duplicate)\n",
        "\n",
        "count_duplicate(customer_df)"
      ]
    },
    {
      "cell_type": "markdown",
      "metadata": {},
      "source": [
        "##### 1.3. Mencari informasi mengenai tabel melalui function describe()"
      ]
    },
    {
      "cell_type": "code",
      "execution_count": 7,
      "metadata": {},
      "outputs": [
        {
          "data": {
            "text/html": [
              "<div>\n",
              "<style scoped>\n",
              "    .dataframe tbody tr th:only-of-type {\n",
              "        vertical-align: middle;\n",
              "    }\n",
              "\n",
              "    .dataframe tbody tr th {\n",
              "        vertical-align: top;\n",
              "    }\n",
              "\n",
              "    .dataframe thead th {\n",
              "        text-align: right;\n",
              "    }\n",
              "</style>\n",
              "<table border=\"1\" class=\"dataframe\">\n",
              "  <thead>\n",
              "    <tr style=\"text-align: right;\">\n",
              "      <th></th>\n",
              "      <th>customer_zip_code_prefix</th>\n",
              "    </tr>\n",
              "  </thead>\n",
              "  <tbody>\n",
              "    <tr>\n",
              "      <th>count</th>\n",
              "      <td>99441.000000</td>\n",
              "    </tr>\n",
              "    <tr>\n",
              "      <th>mean</th>\n",
              "      <td>35137.474583</td>\n",
              "    </tr>\n",
              "    <tr>\n",
              "      <th>std</th>\n",
              "      <td>29797.938996</td>\n",
              "    </tr>\n",
              "    <tr>\n",
              "      <th>min</th>\n",
              "      <td>1003.000000</td>\n",
              "    </tr>\n",
              "    <tr>\n",
              "      <th>25%</th>\n",
              "      <td>11347.000000</td>\n",
              "    </tr>\n",
              "    <tr>\n",
              "      <th>50%</th>\n",
              "      <td>24416.000000</td>\n",
              "    </tr>\n",
              "    <tr>\n",
              "      <th>75%</th>\n",
              "      <td>58900.000000</td>\n",
              "    </tr>\n",
              "    <tr>\n",
              "      <th>max</th>\n",
              "      <td>99990.000000</td>\n",
              "    </tr>\n",
              "  </tbody>\n",
              "</table>\n",
              "</div>"
            ],
            "text/plain": [
              "       customer_zip_code_prefix\n",
              "count              99441.000000\n",
              "mean               35137.474583\n",
              "std                29797.938996\n",
              "min                 1003.000000\n",
              "25%                11347.000000\n",
              "50%                24416.000000\n",
              "75%                58900.000000\n",
              "max                99990.000000"
            ]
          },
          "execution_count": 7,
          "metadata": {},
          "output_type": "execute_result"
        }
      ],
      "source": [
        "customer_df.describe()"
      ]
    },
    {
      "cell_type": "markdown",
      "metadata": {
        "id": "7dtxhAPrkhPL"
      },
      "source": [
        "**Insight:**\n",
        "- Kolom yang dapat dihitung hanya kolom yang bertipe integer\n",
        "- Tidak ada keanehan yang terjadi dalam tabel customer_df"
      ]
    },
    {
      "cell_type": "markdown",
      "metadata": {},
      "source": [
        "#### 2.  Menilai Data order_item_df"
      ]
    },
    {
      "cell_type": "markdown",
      "metadata": {},
      "source": [
        "##### 2.1. Mencari missing value dan mencocokkan tipe data"
      ]
    },
    {
      "cell_type": "code",
      "execution_count": 8,
      "metadata": {},
      "outputs": [
        {
          "name": "stdout",
          "output_type": "stream",
          "text": [
            "<class 'pandas.core.frame.DataFrame'>\n",
            "RangeIndex: 112650 entries, 0 to 112649\n",
            "Data columns (total 7 columns):\n",
            " #   Column               Non-Null Count   Dtype  \n",
            "---  ------               --------------   -----  \n",
            " 0   order_id             112650 non-null  object \n",
            " 1   order_item_id        112650 non-null  int64  \n",
            " 2   product_id           112650 non-null  object \n",
            " 3   seller_id            112650 non-null  object \n",
            " 4   shipping_limit_date  112650 non-null  object \n",
            " 5   price                112650 non-null  float64\n",
            " 6   freight_value        112650 non-null  float64\n",
            "dtypes: float64(2), int64(1), object(4)\n",
            "memory usage: 6.0+ MB\n"
          ]
        }
      ],
      "source": [
        "order_item_df.info()"
      ]
    },
    {
      "cell_type": "markdown",
      "metadata": {},
      "source": [
        "Insight:\n",
        "- Pada customer_df tidak terdapat missing value, hal ini dibuktikan pada kolom Non-Null yang menunjukkan jumlah datanya sama dari setiap kolom yang ada. \n",
        "- Pada tabel ini juga tidak terdapat tipe data yang salah"
      ]
    },
    {
      "cell_type": "markdown",
      "metadata": {},
      "source": [
        "##### 2.2. Menghitung duplikasi"
      ]
    },
    {
      "cell_type": "code",
      "execution_count": 9,
      "metadata": {},
      "outputs": [
        {
          "name": "stdout",
          "output_type": "stream",
          "text": [
            "tidak terdapat duplikasi\n"
          ]
        }
      ],
      "source": [
        "count_duplicate(order_item_df)"
      ]
    },
    {
      "cell_type": "markdown",
      "metadata": {},
      "source": [
        "##### 1.3. Mencari informasi mengenai tabel melalui function describe()"
      ]
    },
    {
      "cell_type": "code",
      "execution_count": 10,
      "metadata": {},
      "outputs": [
        {
          "data": {
            "text/html": [
              "<div>\n",
              "<style scoped>\n",
              "    .dataframe tbody tr th:only-of-type {\n",
              "        vertical-align: middle;\n",
              "    }\n",
              "\n",
              "    .dataframe tbody tr th {\n",
              "        vertical-align: top;\n",
              "    }\n",
              "\n",
              "    .dataframe thead th {\n",
              "        text-align: right;\n",
              "    }\n",
              "</style>\n",
              "<table border=\"1\" class=\"dataframe\">\n",
              "  <thead>\n",
              "    <tr style=\"text-align: right;\">\n",
              "      <th></th>\n",
              "      <th>order_item_id</th>\n",
              "      <th>price</th>\n",
              "      <th>freight_value</th>\n",
              "    </tr>\n",
              "  </thead>\n",
              "  <tbody>\n",
              "    <tr>\n",
              "      <th>count</th>\n",
              "      <td>112650.000000</td>\n",
              "      <td>112650.000000</td>\n",
              "      <td>112650.000000</td>\n",
              "    </tr>\n",
              "    <tr>\n",
              "      <th>mean</th>\n",
              "      <td>1.197834</td>\n",
              "      <td>120.653739</td>\n",
              "      <td>19.990320</td>\n",
              "    </tr>\n",
              "    <tr>\n",
              "      <th>std</th>\n",
              "      <td>0.705124</td>\n",
              "      <td>183.633928</td>\n",
              "      <td>15.806405</td>\n",
              "    </tr>\n",
              "    <tr>\n",
              "      <th>min</th>\n",
              "      <td>1.000000</td>\n",
              "      <td>0.850000</td>\n",
              "      <td>0.000000</td>\n",
              "    </tr>\n",
              "    <tr>\n",
              "      <th>25%</th>\n",
              "      <td>1.000000</td>\n",
              "      <td>39.900000</td>\n",
              "      <td>13.080000</td>\n",
              "    </tr>\n",
              "    <tr>\n",
              "      <th>50%</th>\n",
              "      <td>1.000000</td>\n",
              "      <td>74.990000</td>\n",
              "      <td>16.260000</td>\n",
              "    </tr>\n",
              "    <tr>\n",
              "      <th>75%</th>\n",
              "      <td>1.000000</td>\n",
              "      <td>134.900000</td>\n",
              "      <td>21.150000</td>\n",
              "    </tr>\n",
              "    <tr>\n",
              "      <th>max</th>\n",
              "      <td>21.000000</td>\n",
              "      <td>6735.000000</td>\n",
              "      <td>409.680000</td>\n",
              "    </tr>\n",
              "  </tbody>\n",
              "</table>\n",
              "</div>"
            ],
            "text/plain": [
              "       order_item_id          price  freight_value\n",
              "count  112650.000000  112650.000000  112650.000000\n",
              "mean        1.197834     120.653739      19.990320\n",
              "std         0.705124     183.633928      15.806405\n",
              "min         1.000000       0.850000       0.000000\n",
              "25%         1.000000      39.900000      13.080000\n",
              "50%         1.000000      74.990000      16.260000\n",
              "75%         1.000000     134.900000      21.150000\n",
              "max        21.000000    6735.000000     409.680000"
            ]
          },
          "execution_count": 10,
          "metadata": {},
          "output_type": "execute_result"
        }
      ],
      "source": [
        "order_item_df.describe()"
      ]
    },
    {
      "cell_type": "markdown",
      "metadata": {},
      "source": [
        "**Insight:**\n",
        "- Kolom yang dapat dihitung hanya kolom yang bertipe integer\n",
        "- Tidak ada keanehan yang terjadi dalam tabel order_item_df"
      ]
    },
    {
      "cell_type": "markdown",
      "metadata": {},
      "source": [
        "#### 3.  Menilai Data review_df"
      ]
    },
    {
      "cell_type": "markdown",
      "metadata": {},
      "source": [
        "##### 3.1. Mencari missing value dan mencocokkan tipe data"
      ]
    },
    {
      "cell_type": "code",
      "execution_count": 11,
      "metadata": {},
      "outputs": [
        {
          "data": {
            "text/html": [
              "<div>\n",
              "<style scoped>\n",
              "    .dataframe tbody tr th:only-of-type {\n",
              "        vertical-align: middle;\n",
              "    }\n",
              "\n",
              "    .dataframe tbody tr th {\n",
              "        vertical-align: top;\n",
              "    }\n",
              "\n",
              "    .dataframe thead th {\n",
              "        text-align: right;\n",
              "    }\n",
              "</style>\n",
              "<table border=\"1\" class=\"dataframe\">\n",
              "  <thead>\n",
              "    <tr style=\"text-align: right;\">\n",
              "      <th></th>\n",
              "      <th>review_id</th>\n",
              "      <th>order_id</th>\n",
              "      <th>review_score</th>\n",
              "      <th>review_comment_title</th>\n",
              "      <th>review_comment_message</th>\n",
              "      <th>review_creation_date</th>\n",
              "      <th>review_answer_timestamp</th>\n",
              "    </tr>\n",
              "  </thead>\n",
              "  <tbody>\n",
              "    <tr>\n",
              "      <th>0</th>\n",
              "      <td>7bc2406110b926393aa56f80a40eba40</td>\n",
              "      <td>73fc7af87114b39712e6da79b0a377eb</td>\n",
              "      <td>4</td>\n",
              "      <td>NaN</td>\n",
              "      <td>NaN</td>\n",
              "      <td>2018-01-18 00:00:00</td>\n",
              "      <td>2018-01-18 21:46:59</td>\n",
              "    </tr>\n",
              "    <tr>\n",
              "      <th>1</th>\n",
              "      <td>80e641a11e56f04c1ad469d5645fdfde</td>\n",
              "      <td>a548910a1c6147796b98fdf73dbeba33</td>\n",
              "      <td>5</td>\n",
              "      <td>NaN</td>\n",
              "      <td>NaN</td>\n",
              "      <td>2018-03-10 00:00:00</td>\n",
              "      <td>2018-03-11 03:05:13</td>\n",
              "    </tr>\n",
              "    <tr>\n",
              "      <th>2</th>\n",
              "      <td>228ce5500dc1d8e020d8d1322874b6f0</td>\n",
              "      <td>f9e4b658b201a9f2ecdecbb34bed034b</td>\n",
              "      <td>5</td>\n",
              "      <td>NaN</td>\n",
              "      <td>NaN</td>\n",
              "      <td>2018-02-17 00:00:00</td>\n",
              "      <td>2018-02-18 14:36:24</td>\n",
              "    </tr>\n",
              "    <tr>\n",
              "      <th>3</th>\n",
              "      <td>e64fb393e7b32834bb789ff8bb30750e</td>\n",
              "      <td>658677c97b385a9be170737859d3511b</td>\n",
              "      <td>5</td>\n",
              "      <td>NaN</td>\n",
              "      <td>Recebi bem antes do prazo estipulado.</td>\n",
              "      <td>2017-04-21 00:00:00</td>\n",
              "      <td>2017-04-21 22:02:06</td>\n",
              "    </tr>\n",
              "    <tr>\n",
              "      <th>4</th>\n",
              "      <td>f7c4243c7fe1938f181bec41a392bdeb</td>\n",
              "      <td>8e6bfb81e283fa7e4f11123a3fb894f1</td>\n",
              "      <td>5</td>\n",
              "      <td>NaN</td>\n",
              "      <td>Parabéns lojas lannister adorei comprar pela I...</td>\n",
              "      <td>2018-03-01 00:00:00</td>\n",
              "      <td>2018-03-02 10:26:53</td>\n",
              "    </tr>\n",
              "  </tbody>\n",
              "</table>\n",
              "</div>"
            ],
            "text/plain": [
              "                          review_id                          order_id  \\\n",
              "0  7bc2406110b926393aa56f80a40eba40  73fc7af87114b39712e6da79b0a377eb   \n",
              "1  80e641a11e56f04c1ad469d5645fdfde  a548910a1c6147796b98fdf73dbeba33   \n",
              "2  228ce5500dc1d8e020d8d1322874b6f0  f9e4b658b201a9f2ecdecbb34bed034b   \n",
              "3  e64fb393e7b32834bb789ff8bb30750e  658677c97b385a9be170737859d3511b   \n",
              "4  f7c4243c7fe1938f181bec41a392bdeb  8e6bfb81e283fa7e4f11123a3fb894f1   \n",
              "\n",
              "   review_score review_comment_title  \\\n",
              "0             4                  NaN   \n",
              "1             5                  NaN   \n",
              "2             5                  NaN   \n",
              "3             5                  NaN   \n",
              "4             5                  NaN   \n",
              "\n",
              "                              review_comment_message review_creation_date  \\\n",
              "0                                                NaN  2018-01-18 00:00:00   \n",
              "1                                                NaN  2018-03-10 00:00:00   \n",
              "2                                                NaN  2018-02-17 00:00:00   \n",
              "3              Recebi bem antes do prazo estipulado.  2017-04-21 00:00:00   \n",
              "4  Parabéns lojas lannister adorei comprar pela I...  2018-03-01 00:00:00   \n",
              "\n",
              "  review_answer_timestamp  \n",
              "0     2018-01-18 21:46:59  \n",
              "1     2018-03-11 03:05:13  \n",
              "2     2018-02-18 14:36:24  \n",
              "3     2017-04-21 22:02:06  \n",
              "4     2018-03-02 10:26:53  "
            ]
          },
          "execution_count": 11,
          "metadata": {},
          "output_type": "execute_result"
        }
      ],
      "source": [
        "review_df.head()"
      ]
    },
    {
      "cell_type": "code",
      "execution_count": 12,
      "metadata": {},
      "outputs": [
        {
          "name": "stdout",
          "output_type": "stream",
          "text": [
            "<class 'pandas.core.frame.DataFrame'>\n",
            "RangeIndex: 99224 entries, 0 to 99223\n",
            "Data columns (total 7 columns):\n",
            " #   Column                   Non-Null Count  Dtype \n",
            "---  ------                   --------------  ----- \n",
            " 0   review_id                99224 non-null  object\n",
            " 1   order_id                 99224 non-null  object\n",
            " 2   review_score             99224 non-null  int64 \n",
            " 3   review_comment_title     11568 non-null  object\n",
            " 4   review_comment_message   40977 non-null  object\n",
            " 5   review_creation_date     99224 non-null  object\n",
            " 6   review_answer_timestamp  99224 non-null  object\n",
            "dtypes: int64(1), object(6)\n",
            "memory usage: 5.3+ MB\n"
          ]
        }
      ],
      "source": [
        "review_df.info()"
      ]
    },
    {
      "cell_type": "markdown",
      "metadata": {},
      "source": [
        "Insight:\n",
        "- Pada customer_df terdapat missing value, hal ini dibuktikan pada kolom Non-Null yang menunjukkan jumlah datanya tidak sama dari setiap kolom yang ada. \n",
        "- Pada tabel ini juga tidak terdapat tipe data yang salah"
      ]
    },
    {
      "cell_type": "code",
      "execution_count": 13,
      "metadata": {},
      "outputs": [
        {
          "data": {
            "text/plain": [
              "review_id                      0\n",
              "order_id                       0\n",
              "review_score                   0\n",
              "review_comment_title       87656\n",
              "review_comment_message     58247\n",
              "review_creation_date           0\n",
              "review_answer_timestamp        0\n",
              "dtype: int64"
            ]
          },
          "execution_count": 13,
          "metadata": {},
          "output_type": "execute_result"
        }
      ],
      "source": [
        "review_df.isna().sum()"
      ]
    },
    {
      "cell_type": "markdown",
      "metadata": {},
      "source": [
        "Insight:\n",
        "- Terdapat missing value pada kolom review_comment_title sebanyak 87656 dan kolom review_comment_massage sebanyak 58247\n",
        "- Karena kita nantinya tidak akan menggunakan kolom tersebut, dengan kata lain, kolom tersebut tidak mempengaruhi proses analisis, maka saya akan menghapus kedua kolom ini"
      ]
    },
    {
      "cell_type": "markdown",
      "metadata": {},
      "source": [
        "##### 3.2. Menghitung duplikasi"
      ]
    },
    {
      "cell_type": "code",
      "execution_count": 14,
      "metadata": {},
      "outputs": [
        {
          "name": "stdout",
          "output_type": "stream",
          "text": [
            "tidak terdapat duplikasi\n"
          ]
        }
      ],
      "source": [
        "count_duplicate(review_df)"
      ]
    },
    {
      "cell_type": "markdown",
      "metadata": {},
      "source": [
        "##### 3.3. Mencari informasi mengenai tabel melalui function describe()"
      ]
    },
    {
      "cell_type": "code",
      "execution_count": 15,
      "metadata": {},
      "outputs": [
        {
          "data": {
            "text/html": [
              "<div>\n",
              "<style scoped>\n",
              "    .dataframe tbody tr th:only-of-type {\n",
              "        vertical-align: middle;\n",
              "    }\n",
              "\n",
              "    .dataframe tbody tr th {\n",
              "        vertical-align: top;\n",
              "    }\n",
              "\n",
              "    .dataframe thead th {\n",
              "        text-align: right;\n",
              "    }\n",
              "</style>\n",
              "<table border=\"1\" class=\"dataframe\">\n",
              "  <thead>\n",
              "    <tr style=\"text-align: right;\">\n",
              "      <th></th>\n",
              "      <th>review_score</th>\n",
              "    </tr>\n",
              "  </thead>\n",
              "  <tbody>\n",
              "    <tr>\n",
              "      <th>count</th>\n",
              "      <td>99224.000000</td>\n",
              "    </tr>\n",
              "    <tr>\n",
              "      <th>mean</th>\n",
              "      <td>4.086421</td>\n",
              "    </tr>\n",
              "    <tr>\n",
              "      <th>std</th>\n",
              "      <td>1.347579</td>\n",
              "    </tr>\n",
              "    <tr>\n",
              "      <th>min</th>\n",
              "      <td>1.000000</td>\n",
              "    </tr>\n",
              "    <tr>\n",
              "      <th>25%</th>\n",
              "      <td>4.000000</td>\n",
              "    </tr>\n",
              "    <tr>\n",
              "      <th>50%</th>\n",
              "      <td>5.000000</td>\n",
              "    </tr>\n",
              "    <tr>\n",
              "      <th>75%</th>\n",
              "      <td>5.000000</td>\n",
              "    </tr>\n",
              "    <tr>\n",
              "      <th>max</th>\n",
              "      <td>5.000000</td>\n",
              "    </tr>\n",
              "  </tbody>\n",
              "</table>\n",
              "</div>"
            ],
            "text/plain": [
              "       review_score\n",
              "count  99224.000000\n",
              "mean       4.086421\n",
              "std        1.347579\n",
              "min        1.000000\n",
              "25%        4.000000\n",
              "50%        5.000000\n",
              "75%        5.000000\n",
              "max        5.000000"
            ]
          },
          "execution_count": 15,
          "metadata": {},
          "output_type": "execute_result"
        }
      ],
      "source": [
        "review_df.describe()"
      ]
    },
    {
      "cell_type": "markdown",
      "metadata": {},
      "source": [
        "**Insight:**\n",
        "- Kolom yang dapat dihitung hanya kolom yang bertipe integer\n",
        "- Tidak ada keanehan yang terjadi dalam tabel review_df"
      ]
    },
    {
      "cell_type": "markdown",
      "metadata": {},
      "source": []
    },
    {
      "cell_type": "markdown",
      "metadata": {},
      "source": [
        "#### 4.  Menilai Data purchase_time_df"
      ]
    },
    {
      "cell_type": "markdown",
      "metadata": {},
      "source": [
        "##### 4.1. Mencari missing value dan mencocokkan tipe data"
      ]
    },
    {
      "cell_type": "code",
      "execution_count": 16,
      "metadata": {},
      "outputs": [
        {
          "name": "stdout",
          "output_type": "stream",
          "text": [
            "<class 'pandas.core.frame.DataFrame'>\n",
            "RangeIndex: 99441 entries, 0 to 99440\n",
            "Data columns (total 8 columns):\n",
            " #   Column                         Non-Null Count  Dtype \n",
            "---  ------                         --------------  ----- \n",
            " 0   order_id                       99441 non-null  object\n",
            " 1   customer_id                    99441 non-null  object\n",
            " 2   order_status                   99441 non-null  object\n",
            " 3   order_purchase_timestamp       99441 non-null  object\n",
            " 4   order_approved_at              99281 non-null  object\n",
            " 5   order_delivered_carrier_date   97658 non-null  object\n",
            " 6   order_delivered_customer_date  96476 non-null  object\n",
            " 7   order_estimated_delivery_date  99441 non-null  object\n",
            "dtypes: object(8)\n",
            "memory usage: 6.1+ MB\n"
          ]
        }
      ],
      "source": [
        "purchase_time_df.info()"
      ]
    },
    {
      "cell_type": "markdown",
      "metadata": {},
      "source": [
        "Insight:\n",
        "- Pada purchase_time_df  terdapat missing value, hal ini dibuktikan pada kolom Non-Null yang menunjukkan jumlah datanya tidak sama dari setiap kolom yang ada. \n",
        "- Pada tabel ini juga tidak terdapat tipe data yang salah"
      ]
    },
    {
      "cell_type": "code",
      "execution_count": 17,
      "metadata": {},
      "outputs": [
        {
          "data": {
            "text/plain": [
              "order_id                            0\n",
              "customer_id                         0\n",
              "order_status                        0\n",
              "order_purchase_timestamp            0\n",
              "order_approved_at                 160\n",
              "order_delivered_carrier_date     1783\n",
              "order_delivered_customer_date    2965\n",
              "order_estimated_delivery_date       0\n",
              "dtype: int64"
            ]
          },
          "execution_count": 17,
          "metadata": {},
          "output_type": "execute_result"
        }
      ],
      "source": [
        "purchase_time_df.isna().sum()"
      ]
    },
    {
      "cell_type": "markdown",
      "metadata": {},
      "source": [
        "Insight:\n",
        "- Terdapat missing value pada kolom order_approved_at sebanyak 160, kolom order_delivered_carrier_date  sebanyak 1783, dan kolom order_delivered_customer_date sebanyak 2965\n",
        "- Karena kita nantinya tidak akan menggunakan kolom tersebut, dengan kata lain, kolom tersebut tidak mempengaruhi proses analisis, maka saya akan menghapus ketiga kolom ini"
      ]
    },
    {
      "cell_type": "markdown",
      "metadata": {},
      "source": [
        "Kesimpulan : sudah tidak ada lagi missing value pada tabel purchase_time_df"
      ]
    },
    {
      "cell_type": "markdown",
      "metadata": {},
      "source": [
        "##### 2.2. Menghitung duplikasi"
      ]
    },
    {
      "cell_type": "code",
      "execution_count": 18,
      "metadata": {},
      "outputs": [
        {
          "name": "stdout",
          "output_type": "stream",
          "text": [
            "tidak terdapat duplikasi\n"
          ]
        }
      ],
      "source": [
        "count_duplicate(purchase_time_df)"
      ]
    },
    {
      "cell_type": "markdown",
      "metadata": {},
      "source": [
        "##### 1.3. Mencari informasi mengenai tabel melalui function describe()"
      ]
    },
    {
      "cell_type": "code",
      "execution_count": 19,
      "metadata": {},
      "outputs": [
        {
          "data": {
            "text/html": [
              "<div>\n",
              "<style scoped>\n",
              "    .dataframe tbody tr th:only-of-type {\n",
              "        vertical-align: middle;\n",
              "    }\n",
              "\n",
              "    .dataframe tbody tr th {\n",
              "        vertical-align: top;\n",
              "    }\n",
              "\n",
              "    .dataframe thead th {\n",
              "        text-align: right;\n",
              "    }\n",
              "</style>\n",
              "<table border=\"1\" class=\"dataframe\">\n",
              "  <thead>\n",
              "    <tr style=\"text-align: right;\">\n",
              "      <th></th>\n",
              "      <th>order_id</th>\n",
              "      <th>customer_id</th>\n",
              "      <th>order_status</th>\n",
              "      <th>order_purchase_timestamp</th>\n",
              "      <th>order_approved_at</th>\n",
              "      <th>order_delivered_carrier_date</th>\n",
              "      <th>order_delivered_customer_date</th>\n",
              "      <th>order_estimated_delivery_date</th>\n",
              "    </tr>\n",
              "  </thead>\n",
              "  <tbody>\n",
              "    <tr>\n",
              "      <th>count</th>\n",
              "      <td>99441</td>\n",
              "      <td>99441</td>\n",
              "      <td>99441</td>\n",
              "      <td>99441</td>\n",
              "      <td>99281</td>\n",
              "      <td>97658</td>\n",
              "      <td>96476</td>\n",
              "      <td>99441</td>\n",
              "    </tr>\n",
              "    <tr>\n",
              "      <th>unique</th>\n",
              "      <td>99441</td>\n",
              "      <td>99441</td>\n",
              "      <td>8</td>\n",
              "      <td>98875</td>\n",
              "      <td>90733</td>\n",
              "      <td>81018</td>\n",
              "      <td>95664</td>\n",
              "      <td>459</td>\n",
              "    </tr>\n",
              "    <tr>\n",
              "      <th>top</th>\n",
              "      <td>e481f51cbdc54678b7cc49136f2d6af7</td>\n",
              "      <td>9ef432eb6251297304e76186b10a928d</td>\n",
              "      <td>delivered</td>\n",
              "      <td>2018-04-11 10:48:14</td>\n",
              "      <td>2018-02-27 04:31:10</td>\n",
              "      <td>2018-05-09 15:48:00</td>\n",
              "      <td>2018-05-08 23:38:46</td>\n",
              "      <td>2017-12-20 00:00:00</td>\n",
              "    </tr>\n",
              "    <tr>\n",
              "      <th>freq</th>\n",
              "      <td>1</td>\n",
              "      <td>1</td>\n",
              "      <td>96478</td>\n",
              "      <td>3</td>\n",
              "      <td>9</td>\n",
              "      <td>47</td>\n",
              "      <td>3</td>\n",
              "      <td>522</td>\n",
              "    </tr>\n",
              "  </tbody>\n",
              "</table>\n",
              "</div>"
            ],
            "text/plain": [
              "                                order_id                       customer_id  \\\n",
              "count                              99441                             99441   \n",
              "unique                             99441                             99441   \n",
              "top     e481f51cbdc54678b7cc49136f2d6af7  9ef432eb6251297304e76186b10a928d   \n",
              "freq                                   1                                 1   \n",
              "\n",
              "       order_status order_purchase_timestamp    order_approved_at  \\\n",
              "count         99441                    99441                99281   \n",
              "unique            8                    98875                90733   \n",
              "top       delivered      2018-04-11 10:48:14  2018-02-27 04:31:10   \n",
              "freq          96478                        3                    9   \n",
              "\n",
              "       order_delivered_carrier_date order_delivered_customer_date  \\\n",
              "count                         97658                         96476   \n",
              "unique                        81018                         95664   \n",
              "top             2018-05-09 15:48:00           2018-05-08 23:38:46   \n",
              "freq                             47                             3   \n",
              "\n",
              "       order_estimated_delivery_date  \n",
              "count                          99441  \n",
              "unique                           459  \n",
              "top              2017-12-20 00:00:00  \n",
              "freq                             522  "
            ]
          },
          "execution_count": 19,
          "metadata": {},
          "output_type": "execute_result"
        }
      ],
      "source": [
        "purchase_time_df.describe()"
      ]
    },
    {
      "cell_type": "markdown",
      "metadata": {},
      "source": [
        "**Insight:**\n",
        "- Tidak ada keanehan yang terjadi dalam tabel order_item_df"
      ]
    },
    {
      "cell_type": "markdown",
      "metadata": {
        "id": "EhN5R4hr8DC1"
      },
      "source": [
        "### Cleaning Data"
      ]
    },
    {
      "cell_type": "markdown",
      "metadata": {},
      "source": [
        "##### 1. Membersihkan data customer_df\n",
        "Tidak ada yang perlu dibersihkan pada data customer_df"
      ]
    },
    {
      "cell_type": "markdown",
      "metadata": {},
      "source": [
        "##### 2. Membersihkan data order_item_df\n",
        "Tidak ada yang perlu dibersihkan pada data order_item_df"
      ]
    },
    {
      "cell_type": "markdown",
      "metadata": {},
      "source": [
        "##### 3. Membersihkan data review_df"
      ]
    },
    {
      "cell_type": "code",
      "execution_count": 33,
      "metadata": {},
      "outputs": [],
      "source": [
        "delete_column = ['review_comment_title','review_comment_message']\n",
        "review_df.drop(delete_column, axis=1, inplace=True)"
      ]
    },
    {
      "cell_type": "code",
      "execution_count": 35,
      "metadata": {},
      "outputs": [
        {
          "data": {
            "text/plain": [
              "review_id                  0\n",
              "order_id                   0\n",
              "review_score               0\n",
              "review_creation_date       0\n",
              "review_answer_timestamp    0\n",
              "dtype: int64"
            ]
          },
          "execution_count": 35,
          "metadata": {},
          "output_type": "execute_result"
        }
      ],
      "source": [
        "review_df.isna().sum()"
      ]
    },
    {
      "cell_type": "markdown",
      "metadata": {
        "id": "Q_5ejIqckiSP"
      },
      "source": [
        "**Insight:**\n",
        "Missing value telah di atasi"
      ]
    },
    {
      "cell_type": "markdown",
      "metadata": {},
      "source": [
        "##### 4. Membersihkan data purchase_time"
      ]
    },
    {
      "cell_type": "code",
      "execution_count": 41,
      "metadata": {},
      "outputs": [],
      "source": [
        "delete_column = ['order_approved_at','order_delivered_carrier_date','order_delivered_customer_date']\n",
        "purchase_time_df.drop(delete_column, axis=1, inplace=True)"
      ]
    },
    {
      "cell_type": "code",
      "execution_count": 42,
      "metadata": {},
      "outputs": [
        {
          "data": {
            "text/plain": [
              "order_id                         0\n",
              "customer_id                      0\n",
              "order_status                     0\n",
              "order_purchase_timestamp         0\n",
              "order_estimated_delivery_date    0\n",
              "dtype: int64"
            ]
          },
          "execution_count": 42,
          "metadata": {},
          "output_type": "execute_result"
        }
      ],
      "source": [
        "purchase_time_df.isna().sum()"
      ]
    },
    {
      "cell_type": "markdown",
      "metadata": {},
      "source": [
        "Kesimpulan: sudah tidak ada lagi kolom yang memiliki missing value"
      ]
    },
    {
      "cell_type": "markdown",
      "metadata": {
        "id": "gp-Y6wU38DC1"
      },
      "source": [
        "## Exploratory Data Analysis (EDA)"
      ]
    },
    {
      "cell_type": "markdown",
      "metadata": {
        "id": "MW7WF2kr8DC1"
      },
      "source": [
        "### 1. Explore data order_item_df untuk menjawab pertanyaan pertama"
      ]
    },
    {
      "cell_type": "code",
      "execution_count": 112,
      "metadata": {
        "id": "e9CQCZjk8DC2"
      },
      "outputs": [
        {
          "data": {
            "text/html": [
              "<div>\n",
              "<style scoped>\n",
              "    .dataframe tbody tr th:only-of-type {\n",
              "        vertical-align: middle;\n",
              "    }\n",
              "\n",
              "    .dataframe tbody tr th {\n",
              "        vertical-align: top;\n",
              "    }\n",
              "\n",
              "    .dataframe thead th {\n",
              "        text-align: right;\n",
              "    }\n",
              "</style>\n",
              "<table border=\"1\" class=\"dataframe\">\n",
              "  <thead>\n",
              "    <tr style=\"text-align: right;\">\n",
              "      <th></th>\n",
              "      <th>order_item_id</th>\n",
              "      <th>price</th>\n",
              "      <th>freight_value</th>\n",
              "      <th>quantity</th>\n",
              "    </tr>\n",
              "  </thead>\n",
              "  <tbody>\n",
              "    <tr>\n",
              "      <th>count</th>\n",
              "      <td>112650.000000</td>\n",
              "      <td>112650.000000</td>\n",
              "      <td>112650.000000</td>\n",
              "      <td>112650.000000</td>\n",
              "    </tr>\n",
              "    <tr>\n",
              "      <th>mean</th>\n",
              "      <td>1.197834</td>\n",
              "      <td>120.653739</td>\n",
              "      <td>19.990320</td>\n",
              "      <td>1.289658</td>\n",
              "    </tr>\n",
              "    <tr>\n",
              "      <th>std</th>\n",
              "      <td>0.705124</td>\n",
              "      <td>183.633928</td>\n",
              "      <td>15.806405</td>\n",
              "      <td>0.960615</td>\n",
              "    </tr>\n",
              "    <tr>\n",
              "      <th>min</th>\n",
              "      <td>1.000000</td>\n",
              "      <td>0.850000</td>\n",
              "      <td>0.000000</td>\n",
              "      <td>1.000000</td>\n",
              "    </tr>\n",
              "    <tr>\n",
              "      <th>25%</th>\n",
              "      <td>1.000000</td>\n",
              "      <td>39.900000</td>\n",
              "      <td>13.080000</td>\n",
              "      <td>1.000000</td>\n",
              "    </tr>\n",
              "    <tr>\n",
              "      <th>50%</th>\n",
              "      <td>1.000000</td>\n",
              "      <td>74.990000</td>\n",
              "      <td>16.260000</td>\n",
              "      <td>1.000000</td>\n",
              "    </tr>\n",
              "    <tr>\n",
              "      <th>75%</th>\n",
              "      <td>1.000000</td>\n",
              "      <td>134.900000</td>\n",
              "      <td>21.150000</td>\n",
              "      <td>1.000000</td>\n",
              "    </tr>\n",
              "    <tr>\n",
              "      <th>max</th>\n",
              "      <td>21.000000</td>\n",
              "      <td>6735.000000</td>\n",
              "      <td>409.680000</td>\n",
              "      <td>20.000000</td>\n",
              "    </tr>\n",
              "  </tbody>\n",
              "</table>\n",
              "</div>"
            ],
            "text/plain": [
              "       order_item_id          price  freight_value       quantity\n",
              "count  112650.000000  112650.000000  112650.000000  112650.000000\n",
              "mean        1.197834     120.653739      19.990320       1.289658\n",
              "std         0.705124     183.633928      15.806405       0.960615\n",
              "min         1.000000       0.850000       0.000000       1.000000\n",
              "25%         1.000000      39.900000      13.080000       1.000000\n",
              "50%         1.000000      74.990000      16.260000       1.000000\n",
              "75%         1.000000     134.900000      21.150000       1.000000\n",
              "max        21.000000    6735.000000     409.680000      20.000000"
            ]
          },
          "execution_count": 112,
          "metadata": {},
          "output_type": "execute_result"
        }
      ],
      "source": [
        "order_item_df.describe()"
      ]
    },
    {
      "cell_type": "code",
      "execution_count": 113,
      "metadata": {},
      "outputs": [
        {
          "data": {
            "text/html": [
              "<div>\n",
              "<style scoped>\n",
              "    .dataframe tbody tr th:only-of-type {\n",
              "        vertical-align: middle;\n",
              "    }\n",
              "\n",
              "    .dataframe tbody tr th {\n",
              "        vertical-align: top;\n",
              "    }\n",
              "\n",
              "    .dataframe thead th {\n",
              "        text-align: right;\n",
              "    }\n",
              "</style>\n",
              "<table border=\"1\" class=\"dataframe\">\n",
              "  <thead>\n",
              "    <tr style=\"text-align: right;\">\n",
              "      <th></th>\n",
              "      <th>order_id</th>\n",
              "      <th>order_item_id</th>\n",
              "      <th>product_id</th>\n",
              "      <th>seller_id</th>\n",
              "      <th>shipping_limit_date</th>\n",
              "      <th>price</th>\n",
              "      <th>freight_value</th>\n",
              "      <th>quantity</th>\n",
              "    </tr>\n",
              "  </thead>\n",
              "  <tbody>\n",
              "    <tr>\n",
              "      <th>0</th>\n",
              "      <td>00010242fe8c5a6d1ba2dd792cb16214</td>\n",
              "      <td>1</td>\n",
              "      <td>4244733e06e7ecb4970a6e2683c13e61</td>\n",
              "      <td>48436dade18ac8b2bce089ec2a041202</td>\n",
              "      <td>2017-09-19 09:45:35</td>\n",
              "      <td>58.90</td>\n",
              "      <td>13.29</td>\n",
              "      <td>1</td>\n",
              "    </tr>\n",
              "    <tr>\n",
              "      <th>1</th>\n",
              "      <td>00018f77f2f0320c557190d7a144bdd3</td>\n",
              "      <td>1</td>\n",
              "      <td>e5f2d52b802189ee658865ca93d83a8f</td>\n",
              "      <td>dd7ddc04e1b6c2c614352b383efe2d36</td>\n",
              "      <td>2017-05-03 11:05:13</td>\n",
              "      <td>239.90</td>\n",
              "      <td>19.93</td>\n",
              "      <td>1</td>\n",
              "    </tr>\n",
              "    <tr>\n",
              "      <th>2</th>\n",
              "      <td>000229ec398224ef6ca0657da4fc703e</td>\n",
              "      <td>1</td>\n",
              "      <td>c777355d18b72b67abbeef9df44fd0fd</td>\n",
              "      <td>5b51032eddd242adc84c38acab88f23d</td>\n",
              "      <td>2018-01-18 14:48:30</td>\n",
              "      <td>199.00</td>\n",
              "      <td>17.87</td>\n",
              "      <td>1</td>\n",
              "    </tr>\n",
              "    <tr>\n",
              "      <th>3</th>\n",
              "      <td>00024acbcdf0a6daa1e931b038114c75</td>\n",
              "      <td>1</td>\n",
              "      <td>7634da152a4610f1595efa32f14722fc</td>\n",
              "      <td>9d7a1d34a5052409006425275ba1c2b4</td>\n",
              "      <td>2018-08-15 10:10:18</td>\n",
              "      <td>12.99</td>\n",
              "      <td>12.79</td>\n",
              "      <td>1</td>\n",
              "    </tr>\n",
              "    <tr>\n",
              "      <th>4</th>\n",
              "      <td>00042b26cf59d7ce69dfabb4e55b4fd9</td>\n",
              "      <td>1</td>\n",
              "      <td>ac6c3623068f30de03045865e4e10089</td>\n",
              "      <td>df560393f3a51e74553ab94004ba5c87</td>\n",
              "      <td>2017-02-13 13:57:51</td>\n",
              "      <td>199.90</td>\n",
              "      <td>18.14</td>\n",
              "      <td>1</td>\n",
              "    </tr>\n",
              "    <tr>\n",
              "      <th>...</th>\n",
              "      <td>...</td>\n",
              "      <td>...</td>\n",
              "      <td>...</td>\n",
              "      <td>...</td>\n",
              "      <td>...</td>\n",
              "      <td>...</td>\n",
              "      <td>...</td>\n",
              "      <td>...</td>\n",
              "    </tr>\n",
              "    <tr>\n",
              "      <th>112645</th>\n",
              "      <td>fffc94f6ce00a00581880bf54a75a037</td>\n",
              "      <td>1</td>\n",
              "      <td>4aa6014eceb682077f9dc4bffebc05b0</td>\n",
              "      <td>b8bc237ba3788b23da09c0f1f3a3288c</td>\n",
              "      <td>2018-05-02 04:11:01</td>\n",
              "      <td>299.99</td>\n",
              "      <td>43.41</td>\n",
              "      <td>1</td>\n",
              "    </tr>\n",
              "    <tr>\n",
              "      <th>112646</th>\n",
              "      <td>fffcd46ef2263f404302a634eb57f7eb</td>\n",
              "      <td>1</td>\n",
              "      <td>32e07fd915822b0765e448c4dd74c828</td>\n",
              "      <td>f3c38ab652836d21de61fb8314b69182</td>\n",
              "      <td>2018-07-20 04:31:48</td>\n",
              "      <td>350.00</td>\n",
              "      <td>36.53</td>\n",
              "      <td>1</td>\n",
              "    </tr>\n",
              "    <tr>\n",
              "      <th>112647</th>\n",
              "      <td>fffce4705a9662cd70adb13d4a31832d</td>\n",
              "      <td>1</td>\n",
              "      <td>72a30483855e2eafc67aee5dc2560482</td>\n",
              "      <td>c3cfdc648177fdbbbb35635a37472c53</td>\n",
              "      <td>2017-10-30 17:14:25</td>\n",
              "      <td>99.90</td>\n",
              "      <td>16.95</td>\n",
              "      <td>1</td>\n",
              "    </tr>\n",
              "    <tr>\n",
              "      <th>112648</th>\n",
              "      <td>fffe18544ffabc95dfada21779c9644f</td>\n",
              "      <td>1</td>\n",
              "      <td>9c422a519119dcad7575db5af1ba540e</td>\n",
              "      <td>2b3e4a2a3ea8e01938cabda2a3e5cc79</td>\n",
              "      <td>2017-08-21 00:04:32</td>\n",
              "      <td>55.99</td>\n",
              "      <td>8.72</td>\n",
              "      <td>1</td>\n",
              "    </tr>\n",
              "    <tr>\n",
              "      <th>112649</th>\n",
              "      <td>fffe41c64501cc87c801fd61db3f6244</td>\n",
              "      <td>1</td>\n",
              "      <td>350688d9dc1e75ff97be326363655e01</td>\n",
              "      <td>f7ccf836d21b2fb1de37564105216cc1</td>\n",
              "      <td>2018-06-12 17:10:13</td>\n",
              "      <td>43.00</td>\n",
              "      <td>12.79</td>\n",
              "      <td>1</td>\n",
              "    </tr>\n",
              "  </tbody>\n",
              "</table>\n",
              "<p>102425 rows × 8 columns</p>\n",
              "</div>"
            ],
            "text/plain": [
              "                                order_id  order_item_id  \\\n",
              "0       00010242fe8c5a6d1ba2dd792cb16214              1   \n",
              "1       00018f77f2f0320c557190d7a144bdd3              1   \n",
              "2       000229ec398224ef6ca0657da4fc703e              1   \n",
              "3       00024acbcdf0a6daa1e931b038114c75              1   \n",
              "4       00042b26cf59d7ce69dfabb4e55b4fd9              1   \n",
              "...                                  ...            ...   \n",
              "112645  fffc94f6ce00a00581880bf54a75a037              1   \n",
              "112646  fffcd46ef2263f404302a634eb57f7eb              1   \n",
              "112647  fffce4705a9662cd70adb13d4a31832d              1   \n",
              "112648  fffe18544ffabc95dfada21779c9644f              1   \n",
              "112649  fffe41c64501cc87c801fd61db3f6244              1   \n",
              "\n",
              "                              product_id                         seller_id  \\\n",
              "0       4244733e06e7ecb4970a6e2683c13e61  48436dade18ac8b2bce089ec2a041202   \n",
              "1       e5f2d52b802189ee658865ca93d83a8f  dd7ddc04e1b6c2c614352b383efe2d36   \n",
              "2       c777355d18b72b67abbeef9df44fd0fd  5b51032eddd242adc84c38acab88f23d   \n",
              "3       7634da152a4610f1595efa32f14722fc  9d7a1d34a5052409006425275ba1c2b4   \n",
              "4       ac6c3623068f30de03045865e4e10089  df560393f3a51e74553ab94004ba5c87   \n",
              "...                                  ...                               ...   \n",
              "112645  4aa6014eceb682077f9dc4bffebc05b0  b8bc237ba3788b23da09c0f1f3a3288c   \n",
              "112646  32e07fd915822b0765e448c4dd74c828  f3c38ab652836d21de61fb8314b69182   \n",
              "112647  72a30483855e2eafc67aee5dc2560482  c3cfdc648177fdbbbb35635a37472c53   \n",
              "112648  9c422a519119dcad7575db5af1ba540e  2b3e4a2a3ea8e01938cabda2a3e5cc79   \n",
              "112649  350688d9dc1e75ff97be326363655e01  f7ccf836d21b2fb1de37564105216cc1   \n",
              "\n",
              "        shipping_limit_date   price  freight_value  quantity  \n",
              "0       2017-09-19 09:45:35   58.90          13.29         1  \n",
              "1       2017-05-03 11:05:13  239.90          19.93         1  \n",
              "2       2018-01-18 14:48:30  199.00          17.87         1  \n",
              "3       2018-08-15 10:10:18   12.99          12.79         1  \n",
              "4       2017-02-13 13:57:51  199.90          18.14         1  \n",
              "...                     ...     ...            ...       ...  \n",
              "112645  2018-05-02 04:11:01  299.99          43.41         1  \n",
              "112646  2018-07-20 04:31:48  350.00          36.53         1  \n",
              "112647  2017-10-30 17:14:25   99.90          16.95         1  \n",
              "112648  2017-08-21 00:04:32   55.99           8.72         1  \n",
              "112649  2018-06-12 17:10:13   43.00          12.79         1  \n",
              "\n",
              "[102425 rows x 8 columns]"
            ]
          },
          "execution_count": 113,
          "metadata": {},
          "output_type": "execute_result"
        }
      ],
      "source": [
        "# Membuat kolom baru bernama quantity untuk menyimpan banyaknya produk yang terjual berdasar banyaknya baris pada product id yang sama\n",
        "order_item_df['quantity']= order_item_df.groupby(['order_id','product_id'])['product_id'].transform('count')\n",
        "\n",
        "# menghapus duplicate dan hanya menyimpan satu baris per product_id per order_id\n",
        "df_unique_order = order_item_df.drop_duplicates(subset=['order_id', 'product_id'])\n",
        "\n",
        "# Melihat hasilnya\n",
        "df_unique_order"
      ]
    },
    {
      "cell_type": "code",
      "execution_count": 128,
      "metadata": {},
      "outputs": [
        {
          "name": "stdout",
          "output_type": "stream",
          "text": [
            "5 Produk yang paling banyak terjual:\n",
            "                             product_id  quantity\n",
            "22112  aca2eb7d00ea1a7b8ebd4e68314663af       527\n",
            "19742  99a4788cb24856965c36a24e339b6058       488\n",
            "8613   422879e10f46682990de24d770e7f83d       484\n",
            "7364   389d119b48cf3043d311335e499d9c6b       392\n",
            "7079   368c6c730842d78016ad823897a372db       388\n",
            "\n",
            "5 Produk yang paling sedikit terjual:\n",
            "                         product_id  quantity\n",
            "0  00066f42aeeb9f3007548bb9d3f33c38         1\n",
            "1  00088930e925c41fd95ebfe695fd2655         1\n",
            "2  0009406fd7479715e4bef61dd91f2462         1\n",
            "4  000d9be29b5207b54e86aa1b1ac54872         1\n",
            "5  0011c512eb256aa0dbbb544d8dffcf6e         1\n"
          ]
        }
      ],
      "source": [
        "# Menghitung total quantity per produk\n",
        "product_sales = df_unique_order.groupby('product_id')['quantity'].sum().reset_index()\n",
        "\n",
        "# Mengambil 5 produk yang paling banyak terjual\n",
        "top_5_most_sold = product_sales.nlargest(5, 'quantity')\n",
        "# Mengambil 5 produk yang paling sedikit terjual\n",
        "top_5_least_sold = product_sales.nsmallest(5, 'quantity')\n",
        "\n",
        "# Menampilkan hasil\n",
        "print(\"5 Produk yang paling banyak terjual:\")\n",
        "print(top_5_most_sold)\n",
        "\n",
        "print(\"\\n5 Produk yang paling sedikit terjual:\")\n",
        "print(top_5_least_sold)"
      ]
    },
    {
      "cell_type": "markdown",
      "metadata": {},
      "source": [
        "1. Produk yang Paling Banyak Terjual:\n",
        "- Produk dengan ID aca2eb7d00ea1a7b8ebd4e68314663af adalah yang paling laris, terjual sebanyak 527 unit. Ini menunjukkan bahwa produk ini sangat populer atau mungkin memiliki permintaan yang tinggi di pasar.\n",
        "- Produk dengan ID 99a4788cb24856965c36a24e339b6058 berada di urutan kedua, dengan penjualan 488 unit.\n",
        "- Produk dengan ID 422879e10f46682990de24d770e7f83d berada di urutan ketiga, terjual 484 unit.\n",
        "- Produk di daftar ini umumnya terjual lebih dari 350 unit, menunjukkan bahwa produk-produk ini memiliki daya tarik yang signifikan terhadap konsumen.\n",
        "\n",
        "Insight: Produk-produk ini mungkin terletak dalam kategori yang sangat diminati, sehingga meningkatkan volume penjualannya. Penjual atau perusahaan bisa fokus pada penawaran promosi untuk produk-produk ini, atau melakukan analisis lebih lanjut untuk memahami alasan kesuksesan penjualannya, seperti harga, fitur, atau kategori produk.\n",
        "2. Produk yang Paling Sedikit Terjual:\n",
        "- Produk dengan ID 00066f42aeeb9f3007548bb9d3f33c38, 00088930e925c41fd95ebfe695fd2655, 0009406fd7479715e4bef61dd91f2462, 000d9be29b5207b54e86aa1b1ac54872, dan 0011c512eb256aa0dbbb544d8dffcf6e semuanya hanya terjual 1 unit.\n",
        "\n",
        "Insight: Produk-produk ini memiliki penjualan yang sangat rendah, yang mungkin disebabkan oleh beberapa faktor seperti kurangnya promosi, harga yang tidak kompetitif, kurangnya permintaan, atau kualitas produk yang kurang menarik bagi konsumen. Penjual mungkin perlu melakukan evaluasi terkait penjualan produk ini. Apakah produk tersebut memiliki ulasan buruk? Apakah produk tersebut tidak mendapatkan eksposur yang cukup? Perlu strategi pemasaran yang lebih baik atau mungkin penghentian penjualan produk yang kinerjanya buruk."
      ]
    },
    {
      "cell_type": "markdown",
      "metadata": {},
      "source": [
        "### 2. Explore Data purchase_time_df untuk menjawab pertanyaan kedua"
      ]
    },
    {
      "cell_type": "code",
      "execution_count": 106,
      "metadata": {},
      "outputs": [
        {
          "name": "stdout",
          "output_type": "stream",
          "text": [
            "Fluktuasi Penjualan per Bulan:\n"
          ]
        },
        {
          "data": {
            "text/plain": [
              "purchase_month\n",
              "2016-09       4\n",
              "2016-10     324\n",
              "2016-12       1\n",
              "2017-01     800\n",
              "2017-02    1780\n",
              "2017-03    2682\n",
              "2017-04    2404\n",
              "2017-05    3700\n",
              "2017-06    3245\n",
              "2017-07    4026\n",
              "2017-08    4331\n",
              "2017-09    4285\n",
              "2017-10    4631\n",
              "2017-11    7544\n",
              "2017-12    5673\n",
              "2018-01    7269\n",
              "2018-02    6728\n",
              "2018-03    7211\n",
              "2018-04    6939\n",
              "2018-05    6873\n",
              "2018-06    6167\n",
              "2018-07    6292\n",
              "2018-08    6512\n",
              "2018-09      16\n",
              "2018-10       4\n",
              "Freq: M, dtype: int64"
            ]
          },
          "execution_count": 106,
          "metadata": {},
          "output_type": "execute_result"
        }
      ],
      "source": [
        "# Mengonversi kolom order_purchase_timestamp menjadi datetime\n",
        "purchase_time_df['order_purchase_timestamp'] = pd.to_datetime(purchase_time_df['order_purchase_timestamp'])\n",
        "\n",
        "# Membuat kolom baru untuk bulan dan tahun berdasarkan timestamp\n",
        "purchase_time_df['purchase_month'] = purchase_time_df['order_purchase_timestamp'].dt.to_period('M')\n",
        "\n",
        "# Menghitung jumlah order per bulan\n",
        "monthly_sales = purchase_time_df.groupby('purchase_month').size()\n",
        "\n",
        "# Menampilkan hasil fluktuasi penjualan\n",
        "print(\"Fluktuasi Penjualan per Bulan:\")\n",
        "monthly_sales\n"
      ]
    },
    {
      "cell_type": "markdown",
      "metadata": {},
      "source": [
        "Insight: \n",
        "Data menunjukkan bahwa penjualan e-commerce mengalami pertumbuhan yang sangat baik hingga November 2017, dengan penurunan signifikan setelah itu. Memahami penyebab di balik penurunan ini dan menganalisis faktor musiman dapat membantu dalam merumuskan strategi untuk meningkatkan penjualan di masa mendatang."
      ]
    },
    {
      "cell_type": "markdown",
      "metadata": {},
      "source": []
    },
    {
      "cell_type": "markdown",
      "metadata": {},
      "source": [
        "### 3. Explore Data customer_df untuk menjawab pertanyaan ketiga"
      ]
    },
    {
      "cell_type": "code",
      "execution_count": 108,
      "metadata": {},
      "outputs": [
        {
          "name": "stdout",
          "output_type": "stream",
          "text": [
            "       customer_city customer_state  num_customers\n",
            "3758       sao paulo             SP          14984\n",
            "3281  rio de janeiro             RJ           6620\n",
            "469   belo horizonte             MG           2672\n",
            "587         brasilia             DF           2069\n",
            "1187        curitiba             PR           1465\n"
          ]
        }
      ],
      "source": [
        "# Mengelompokkan data dan menghitung jumlah pembeli unik\n",
        "top_customers = customer_df.groupby(['customer_city', 'customer_state']).customer_unique_id.nunique().reset_index()\n",
        "\n",
        "# Memberi nama kolom untuk kejelasan\n",
        "top_customers.columns = ['customer_city', 'customer_state', 'num_customers']\n",
        "\n",
        "# Mengurutkan hasil berdasarkan jumlah pembeli terbanyak\n",
        "top_customers_sorted = top_customers.sort_values(by='num_customers', ascending=False)\n",
        "\n",
        "# Menampilkan 5 kota dengan pembeli terbanyak\n",
        "top_5_cities = top_customers_sorted.head(5)\n",
        "print(top_5_cities)"
      ]
    },
    {
      "cell_type": "markdown",
      "metadata": {},
      "source": [
        "**Insight**\n",
        "\n",
        "- Kota-kota yang muncul di daftar teratas menunjukkan lokasi-lokasi strategis di mana permintaan barang atau jasa sangat tinggi. Ini bisa menjadi indikator pasar yang menguntungkan untuk pengembangan produk atau layanan lebih lanjut.\n",
        "- Misalnya, jika kota seperti São Paulo muncul sebagai kota dengan pembeli terbanyak, ini menunjukkan potensi besar untuk memperluas operasi atau promosi di daerah tersebut."
      ]
    },
    {
      "cell_type": "markdown",
      "metadata": {},
      "source": [
        "### 4. Explore data review_df untuk menjawab pertanyaan keempat"
      ]
    },
    {
      "cell_type": "code",
      "execution_count": 111,
      "metadata": {},
      "outputs": [
        {
          "name": "stdout",
          "output_type": "stream",
          "text": [
            "Produk yang paling disukai:\n",
            "order_id        00010242fe8c5a6d1ba2dd792cb16214\n",
            "review_score                                 5.0\n",
            "Name: 0, dtype: object\n",
            "\n",
            "Produk yang paling tidak disukai:\n",
            "order_id        0005a1a1728c9d785b8e2b08b904576c\n",
            "review_score                                 1.0\n",
            "Name: 8, dtype: object\n"
          ]
        }
      ],
      "source": [
        "# Menghitung rata-rata skor ulasan untuk setiap produk\n",
        "average_review_scores = review_df.groupby('order_id')['review_score'].mean().reset_index()\n",
        "\n",
        "# Mengurutkan berdasarkan skor tertinggi dan terendah\n",
        "most_liked_product = average_review_scores.loc[average_review_scores['review_score'].idxmax()]\n",
        "least_liked_product = average_review_scores.loc[average_review_scores['review_score'].idxmin()]\n",
        "\n",
        "# Menampilkan hasil\n",
        "print(\"Produk yang paling disukai:\")\n",
        "print(most_liked_product)\n",
        "\n",
        "print(\"\\nProduk yang paling tidak disukai:\")\n",
        "print(least_liked_product)\n"
      ]
    },
    {
      "cell_type": "markdown",
      "metadata": {
        "id": "zsyZjqak8DC2"
      },
      "source": [
        "## Visualization & Explanatory Analysis"
      ]
    },
    {
      "cell_type": "markdown",
      "metadata": {
        "id": "HZxOiQ6n8DC2"
      },
      "source": [
        "### Pertanyaan 1: Produk apa yang paling banyak dan paling sedikit terjual?"
      ]
    },
    {
      "cell_type": "code",
      "execution_count": 129,
      "metadata": {
        "id": "1swJUdAD8DC2"
      },
      "outputs": [
        {
          "name": "stderr",
          "output_type": "stream",
          "text": [
            "C:\\Users\\laras\\AppData\\Local\\Temp\\ipykernel_29728\\1517175146.py:4: FutureWarning: \n",
            "\n",
            "Passing `palette` without assigning `hue` is deprecated and will be removed in v0.14.0. Assign the `y` variable to `hue` and set `legend=False` for the same effect.\n",
            "\n",
            "  sns.barplot(x='quantity', y='product_id', data=top_5_most_sold, ax=axes[0], palette='Greens_d')\n",
            "C:\\Users\\laras\\AppData\\Local\\Temp\\ipykernel_29728\\1517175146.py:10: FutureWarning: \n",
            "\n",
            "Passing `palette` without assigning `hue` is deprecated and will be removed in v0.14.0. Assign the `y` variable to `hue` and set `legend=False` for the same effect.\n",
            "\n",
            "  sns.barplot(x='quantity', y='product_id', data=top_5_least_sold, ax=axes[1], palette='Reds_d')\n"
          ]
        },
        {
          "data": {
            "image/png": "[encoded data removed]",
            "text/plain": [
              "<Figure size 1400x600 with 2 Axes>"
            ]
          },
          "metadata": {},
          "output_type": "display_data"
        }
      ],
      "source": [
        "\n",
        "fig, axes = plt.subplots(1, 2, figsize=(14, 6))\n",
        "\n",
        "# Plot for top 5 most sold products\n",
        "sns.barplot(x='quantity', y='product_id', data=top_5_most_sold, ax=axes[0], palette='Greens_d')\n",
        "axes[0].set_title('Top 5 Most Sold Products')\n",
        "axes[0].set_xlabel('Quantity Sold')\n",
        "axes[0].set_ylabel('Product ID')\n",
        "\n",
        "# Plot for top 5 least sold products\n",
        "sns.barplot(x='quantity', y='product_id', data=top_5_least_sold, ax=axes[1], palette='Reds_d')\n",
        "axes[1].set_title('Top 5 Least Sold Products')\n",
        "axes[1].set_xlabel('Quantity Sold')\n",
        "axes[1].set_ylabel('Product ID')\n",
        "\n",
        "plt.tight_layout()\n",
        "plt.show()"
      ]
    },
    {
      "cell_type": "markdown",
      "metadata": {},
      "source": [
        "**insight**\n",
        "1. Top 5 Produk Terlaris :\n",
        "- Produk dengan ID aca2eb7d00ea1a7b8ebd4e68314663af merupakan yang paling banyak terjual, diikuti oleh produk dengan ID 99a4788cb24856965c36a24e339b6058.\n",
        "- Semua produk dalam daftar ini memiliki kuantitas penjualan yang cukup tinggi, berkisar antara sekitar 350 hingga lebih dari 500 unit.\n",
        "- Produk-produk ini kemungkinan besar menjadi pilihan utama bagi konsumen, baik karena popularitas, kualitas, atau kebutuhan pasar yang tinggi.\n",
        "\n",
        "2. Top 5 Produk yang Paling Sedikit Terjual:\n",
        "- Produk dengan ID 00066f42aeeb9f3007548bb9d3f33c38 adalah produk yang terjual paling sedikit, diikuti oleh produk dengan ID 0088930e925c41fd95ebfe695fd2655.\n",
        "- Semua produk dalam daftar ini memiliki kuantitas penjualan yang sangat rendah, dengan nilai yang sangat mendekati 0 (mungkin hanya beberapa unit saja).\n",
        "- Produk-produk ini mungkin kurang menarik bagi konsumen, atau permintaannya sangat rendah. Alasan lain bisa jadi terkait dengan harga, kurangnya promosi, atau tidak relevannya produk dengan kebutuhan pasar saat ini.\n",
        "\n",
        "Perbedaan yang signifikan antara produk terlaris dan produk yang paling sedikit terjual menunjukkan bahwa terdapat produk-produk unggulan yang sangat diminati pasar, sementara beberapa produk lain hampir tidak memiliki penjualan sama sekali."
      ]
    },
    {
      "cell_type": "markdown",
      "metadata": {
        "id": "DgHI7CiU8DC2"
      },
      "source": [
        "### Pertanyaan 2: Bagaimana fluktuasi penjualan yang terjadi pada e-commerce?"
      ]
    },
    {
      "cell_type": "code",
      "execution_count": 131,
      "metadata": {
        "id": "Go0lCsvO8DC2"
      },
      "outputs": [
        {
          "data": {
            "image/png": "[encoded data removed]",
            "text/plain": [
              "<Figure size 1000x600 with 1 Axes>"
            ]
          },
          "metadata": {},
          "output_type": "display_data"
        }
      ],
      "source": [
        "# Mengonversi kolom order_purchase_timestamp menjadi datetime\n",
        "purchase_time_df['order_purchase_timestamp'] = pd.to_datetime(purchase_time_df['order_purchase_timestamp'])\n",
        "\n",
        "# Membuat kolom baru untuk bulan dan tahun berdasarkan timestamp\n",
        "purchase_time_df['purchase_month'] = purchase_time_df['order_purchase_timestamp'].dt.to_period('M')\n",
        "\n",
        "# Menghitung jumlah order per bulan\n",
        "monthly_sales = purchase_time_df.groupby('purchase_month').size()\n",
        "\n",
        "# Membuat visualisasi fluktuasi penjualan per bulan sebagai line chart\n",
        "plt.figure(figsize=(10, 6))\n",
        "monthly_sales.plot(kind='line', marker='o', color='blue')\n",
        "plt.title('Fluktuasi Penjualan per Bulan')\n",
        "plt.xlabel('Bulan')\n",
        "plt.ylabel('Jumlah Pesanan')\n",
        "plt.xticks(rotation=45)\n",
        "plt.grid()\n",
        "plt.tight_layout()\n",
        "plt.show()\n"
      ]
    },
    {
      "cell_type": "markdown",
      "metadata": {},
      "source": [
        "**insight**\n",
        "Kenaikan Signifikan pada Awal 2017: Penjualan meningkat secara bertahap dari Oktober 2016 hingga mencapai puncak pada sekitar akhir 2017. Ini menunjukkan adanya pertumbuhan yang stabil dalam jumlah pesanan.\n",
        "\n",
        "Puncak Penjualan pada Akhir 2017: Penjualan mencapai titik tertinggi di bulan Oktober 2017, dengan jumlah pesanan mencapai lebih dari 7.000 pesanan.\n",
        "\n",
        "Penurunan Setelah Puncak: Setelah mencapai puncaknya, terjadi fluktuasi yang tajam dan penurunan signifikan di beberapa bulan berikutnya. Namun, secara umum, meskipun ada penurunan, jumlah pesanan tetap berada di sekitar 4.000-5.000 pesanan, yang masih cukup tinggi.\n",
        "\n",
        "Penurunan Drastis pada Akhir Periode: Ada penurunan yang sangat tajam di sekitar bulan September-Oktober 2018, di mana jumlah pesanan turun hingga mendekati nol. Ini bisa menunjukkan adanya masalah besar, seperti perubahan strategi bisnis, gangguan operasional, atau faktor eksternal yang mempengaruhi bisnis secara drastis.\n",
        "\n",
        "Stabilitas di Tengah Periode: Setelah penurunan pertama pasca puncak, penjualan cenderung stabil dengan fluktuasi kecil di sepanjang tahun 2018 hingga penurunan besar di akhir periode."
      ]
    },
    {
      "cell_type": "markdown",
      "metadata": {
        "id": "_0-36BDLklRg"
      },
      "source": [
        "**Insight:**\n",
        "- xxx\n",
        "- xxx"
      ]
    },
    {
      "cell_type": "markdown",
      "metadata": {},
      "source": []
    },
    {
      "cell_type": "markdown",
      "metadata": {},
      "source": [
        "### pertanyaan 3 : Kota mana saja yang memiliki pembeli terbanyak?"
      ]
    },
    {
      "cell_type": "code",
      "execution_count": 132,
      "metadata": {},
      "outputs": [
        {
          "data": {
            "image/png": "[encoded data removed]",
            "text/plain": [
              "<Figure size 1000x600 with 1 Axes>"
            ]
          },
          "metadata": {},
          "output_type": "display_data"
        }
      ],
      "source": [
        "# Membuat visualisasi batang\n",
        "plt.figure(figsize=(10, 6))\n",
        "plt.bar(top_5_cities['customer_city'], top_5_cities['num_customers'], color='skyblue')\n",
        "\n",
        "# Menambahkan judul dan label sumbu\n",
        "plt.title('Top 5 Cities with the Most Unique Customers', fontsize=16)\n",
        "plt.xlabel('City', fontsize=14)\n",
        "plt.ylabel('Number of Unique Customers', fontsize=14)\n",
        "plt.xticks(rotation=45)  # Memutar label kota agar lebih mudah dibaca\n",
        "\n",
        "# Menampilkan nilai di atas setiap batang\n",
        "for index, value in enumerate(top_5_cities['num_customers']):\n",
        "    plt.text(index, value, str(value), ha='center', va='bottom')\n",
        "\n",
        "# Menampilkan plot\n",
        "plt.tight_layout()\n",
        "plt.show()"
      ]
    },
    {
      "cell_type": "markdown",
      "metadata": {},
      "source": [
        "**insight**\n",
        "Dominasi São Paulo: São Paulo memiliki jumlah pelanggan unik paling banyak, yaitu 14.984. Angka ini jauh lebih tinggi dibandingkan kota lain, hampir lebih dari dua kali lipat dibandingkan Rio de Janeiro, yang menempati posisi kedua. Ini menunjukkan bahwa São Paulo merupakan pasar yang sangat penting bagi bisnis.\n",
        "\n",
        "Rio de Janeiro di Posisi Kedua: Meskipun lebih rendah dari São Paulo, Rio de Janeiro memiliki jumlah pelanggan unik yang cukup signifikan, yaitu 6.620 pelanggan. Kota ini masih merupakan pasar penting namun dengan skala yang lebih kecil dibandingkan São Paulo.\n",
        "\n",
        "Penurunan Signifikan Setelah Rio de Janeiro: Setelah dua kota terbesar, ada penurunan signifikan dalam jumlah pelanggan unik. Belo Horizonte (2.672 pelanggan), Brasília (2.069 pelanggan), dan Curitiba (1.465 pelanggan) menunjukkan bahwa pasar di luar dua kota besar ini jauh lebih kecil.\n",
        "\n",
        "Konsentrasi Pelanggan: Dua kota terbesar, São Paulo dan Rio de Janeiro, menyumbang sebagian besar pelanggan unik. Sementara tiga kota lainnya (Belo Horizonte, Brasília, Curitiba) masih memiliki jumlah pelanggan yang signifikan, namun tidak sebesar dua kota utama tersebut."
      ]
    },
    {
      "cell_type": "markdown",
      "metadata": {},
      "source": [
        "### Pertanyaan 4 : Produk apa yang paling disukai dan yang paling tidak disukai oleh pembeli?"
      ]
    },
    {
      "cell_type": "code",
      "execution_count": 135,
      "metadata": {},
      "outputs": [
        {
          "name": "stderr",
          "output_type": "stream",
          "text": [
            "C:\\Users\\laras\\AppData\\Local\\Temp\\ipykernel_29728\\334822737.py:14: FutureWarning: \n",
            "\n",
            "Passing `palette` without assigning `hue` is deprecated and will be removed in v0.14.0. Assign the `x` variable to `hue` and set `legend=False` for the same effect.\n",
            "\n",
            "  sns.barplot(x=products, y=scores, palette=\"Blues_d\")\n"
          ]
        },
        {
          "data": {
            "text/plain": [
              "Text(0.5, 0, 'ID Produk')"
            ]
          },
          "execution_count": 135,
          "metadata": {},
          "output_type": "execute_result"
        },
        {
          "data": {
            "image/png": "[encoded data removed]",
            "text/plain": [
              "<Figure size 800x600 with 1 Axes>"
            ]
          },
          "metadata": {},
          "output_type": "display_data"
        }
      ],
      "source": [
        "most_liked_product_name = '00010242fe8c5a6d1ba2dd792cb16214'  # order_id produk yang paling disukai\n",
        "least_liked_product_name = '0005a1a1728c9d785b8e2b08b904576c'  # order_id produk yang paling tidak disukai\n",
        "\n",
        "# Skor ulasan produk\n",
        "most_liked_score = 5.0  # Skor ulasan tertinggi\n",
        "least_liked_score = 1.0  # Skor ulasan terendah\n",
        "\n",
        "# Data untuk visualisasi\n",
        "products = [most_liked_product_name, least_liked_product_name]\n",
        "scores = [most_liked_score, least_liked_score]\n",
        "\n",
        "# Membuat plot\n",
        "plt.figure(figsize=(8, 6))\n",
        "sns.barplot(x=products, y=scores, palette=\"Blues_d\")\n",
        "\n",
        "# Menambahkan judul dan label\n",
        "plt.title('Perbandingan Produk Paling Disukai dan Paling Tidak Disukai', fontsize=16)\n",
        "plt.ylabel('Rata-rata Skor Ulasan', fontsize=12)\n",
        "plt.xlabel('ID Produk', fontsize=12)"
      ]
    },
    {
      "cell_type": "markdown",
      "metadata": {},
      "source": [
        "**insight**\n",
        "Perbedaan Skor Ulasan yang Signifikan:\n",
        "\n",
        "Produk dengan ID 00010242fe8c5a6d1ba2dd792cb16214 memiliki rata-rata skor ulasan tertinggi, yaitu 5.0, yang menunjukkan bahwa produk ini sangat disukai oleh pembeli.\n",
        "Produk dengan ID 0005a1a1728c9d785b8e2b08b904576c memiliki rata-rata skor ulasan terendah, yaitu 1.0, yang menunjukkan bahwa produk ini tidak disukai oleh pembeli.\n",
        "\n",
        "Kepuasan Pelanggan yang Kontras:\n",
        "\n",
        "Perbedaan antara skor tertinggi (5.0) dan terendah (1.0) menunjukkan adanya perbedaan yang sangat besar dalam kepuasan pelanggan antara kedua produk ini. Produk pertama memiliki ulasan yang sangat positif, sedangkan produk kedua menerima ulasan yang sangat negatif.\n",
        "Potensi Tindak Lanjut:\n",
        "\n",
        "Produk yang disukai: Produk dengan skor 5.0 dapat menjadi acuan untuk memahami faktor-faktor yang membuat pelanggan puas. Analisis lebih mendalam tentang fitur atau kualitas produk ini dapat membantu dalam strategi pemasaran dan pengembangan produk lainnya.\n",
        "Produk yang tidak disukai: Produk dengan skor 1.0 memerlukan perhatian lebih. Perusahaan harus mempertimbangkan untuk mengevaluasi alasan di balik ulasan negatif, seperti masalah kualitas, ketidaksesuaian dengan deskripsi, atau layanan purna jual yang buruk. Tindakan perbaikan perlu diambil untuk mengatasi masalah ini.\n",
        "Strategi Produk:\n",
        "\n",
        "Produk yang paling disukai bisa menjadi fokus dalam promosi atau bisa digunakan sebagai studi kasus dalam meningkatkan produk lain.\n",
        "Produk yang paling tidak disukai perlu diperbaiki atau bahkan ditarik dari pasar jika masalahnya sangat serius, setelah memahami penyebab dari ulasan negatif."
      ]
    },
    {
      "cell_type": "markdown",
      "metadata": {
        "id": "9y4VUsmcYNZ5"
      },
      "source": [
        "## Analisis Lanjutan Clustering "
      ]
    },
    {
      "cell_type": "code",
      "execution_count": 145,
      "metadata": {
        "id": "iWhnzsJGYUCO"
      },
      "outputs": [
        {
          "data": {
            "image/png": "[encoded data removed]",
            "text/plain": [
              "<Figure size 640x480 with 1 Axes>"
            ]
          },
          "metadata": {},
          "output_type": "display_data"
        }
      ],
      "source": [
        "\n",
        "# Ambil kolom yang relevan untuk clustering ('price' dan 'freight_value')\n",
        "X = order_item_df[['price', 'freight_value']]\n",
        "\n",
        "# 4. Data normalization\n",
        "scaler = StandardScaler()\n",
        "X_scaled = scaler.fit_transform(X)\n",
        "\n",
        "# Clustering menggunakan KMeans\n",
        "kmeans = KMeans(n_clusters=3, random_state=42)\n",
        "order_item_df['Cluster'] = kmeans.fit_predict(X_scaled)\n",
        "\n",
        "# Visualisasi hasil clustering\n",
        "plt.scatter(order_item_df['price'], order_item_df['freight_value'], c=order_item_df['Cluster'], cmap='viridis')\n",
        "plt.title('Clustering berdasarkan Price dan Freight Value')\n",
        "plt.xlabel('Price')\n",
        "plt.ylabel('Freight Value')\n",
        "plt.show()"
      ]
    },
    {
      "cell_type": "markdown",
      "metadata": {},
      "source": [
        "Insight:\n",
        "- Cluster kuning dan ungu: Kelompok pesanan dengan harga produk yang relatif rendah dan biaya pengiriman yang tidak terlalu tinggi, menunjukkan bahwa sebagian besar pesanan memiliki harga yang terjangkau dengan biaya pengiriman rendah.\n",
        "- Cluster hijau: Menunjukkan bahwa produk dengan harga lebih tinggi memiliki distribusi biaya pengiriman yang lebih luas, termasuk beberapa produk yang harganya tinggi dengan biaya pengiriman yang cukup besar. Ini bisa mewakili produk premium atau pesanan internasional yang memerlukan biaya pengiriman lebih tinggi.\n",
        "- Sebagian besar pesanan berada dalam rentang harga yang lebih rendah (di bawah 1000), dan ada cluster kecil yang memiliki harga lebih tinggi.\n",
        "- Freight value cenderung bervariasi lebih lebar pada produk dengan harga yang lebih tinggi, menunjukkan bahwa barang mahal mungkin dikirim dari jarak lebih jauh atau dengan layanan pengiriman yang lebih mahal.\n"
      ]
    },
    {
      "cell_type": "markdown",
      "metadata": {
        "id": "_WeHlCeX8DC2"
      },
      "source": [
        "## Conclusion"
      ]
    },
    {
      "cell_type": "markdown",
      "metadata": {
        "id": "ZTcyR48Y8DC2"
      },
      "source": [
        "- Produk dengan penjualan tertinggi, seperti ID aca2eb7d00ea1a7b8ebd4e68314663af yang terjual 527 unit, menunjukkan permintaan yang kuat dan potensi untuk promosi lebih lanjut, sementara produk dengan penjualan terendah, seperti ID 00066f42aeeb9f3007548bb9d3f33c38, 00088930e925c41fd95ebfe695fd2655, 0009406fd7479715e4bef61dd91f2462, 000d9be29b5207b54e86aa1b1ac54872, dan 0011c512eb256aa0dbbb544d8dffcf6e yang hanya terjual 1 unit, perlu dievaluasi dan mungkin memerlukan strategi pemasaran yang lebih baik atau penghentian penjualan.\n",
        "- Data menunjukkan pertumbuhan penjualan e-commerce yang baik hingga November 2017, diikuti oleh penurunan signifikan; memahami penyebab penurunan dan faktor musiman dapat membantu merumuskan strategi untuk meningkatkan penjualan di masa depan.\n",
        "- Kota-kota teratas menunjukkan lokasi strategis dengan permintaan tinggi, seperti São Paulo, yang mengindikasikan potensi besar untuk memperluas operasi atau promosi di daerah tersebut.\n",
        "- Produk dengan ID 00010242fe8c5a6d1ba2dd792cb16214 memiliki rata-rata skor ulasan tertinggi, yaitu 5.0, yang menunjukkan bahwa produk ini sangat disukai oleh pembeli.\n",
        "Produk dengan ID 0005a1a1728c9d785b8e2b08b904576c memiliki rata-rata skor ulasan terendah, yaitu 1.0, yang menunjukkan bahwa produk ini tidak disukai oleh pembeli."
      ]
    },
    {
      "cell_type": "code",
      "execution_count": null,
      "metadata": {},
      "outputs": [],
      "source": [
        "customer_df = pd.read_csv(\"C:/Users/laras/proyek_analisis_data/E-commerce-public-dataset/E-Commerce Public Dataset/customers_dataset.csv\")\n",
        "order_item_df = pd.read_csv(\"C:/Users/laras/proyek_analisis_data/E-commerce-public-dataset/E-Commerce Public Dataset/order_items_dataset.csv\")\n",
        "review_df = pd.read_csv(\"C:/Users/laras/proyek_analisis_data/E-commerce-public-dataset/E-Commerce Public Dataset/order_reviews_dataset.csv\")\n",
        "purchase_time_df = pd.read_csv(\"C:/Users/laras/proyek_analisis_data/E-commerce-public-dataset/E-Commerce Public Dataset/orders_dataset.csv\")\n",
        "purchase_time_df.head()"
      ]
    },
    {
      "cell_type": "code",
      "execution_count": 21,
      "metadata": {},
      "outputs": [
        {
          "data": {
            "text/html": [
              "<div>\n",
              "<style scoped>\n",
              "    .dataframe tbody tr th:only-of-type {\n",
              "        vertical-align: middle;\n",
              "    }\n",
              "\n",
              "    .dataframe tbody tr th {\n",
              "        vertical-align: top;\n",
              "    }\n",
              "\n",
              "    .dataframe thead th {\n",
              "        text-align: right;\n",
              "    }\n",
              "</style>\n",
              "<table border=\"1\" class=\"dataframe\">\n",
              "  <thead>\n",
              "    <tr style=\"text-align: right;\">\n",
              "      <th></th>\n",
              "      <th>order_id</th>\n",
              "      <th>order_item_id</th>\n",
              "      <th>product_id</th>\n",
              "      <th>seller_id</th>\n",
              "      <th>shipping_limit_date</th>\n",
              "      <th>price</th>\n",
              "      <th>freight_value</th>\n",
              "      <th>review_id</th>\n",
              "      <th>review_score</th>\n",
              "      <th>review_comment_title</th>\n",
              "      <th>review_comment_message</th>\n",
              "      <th>review_creation_date</th>\n",
              "      <th>review_answer_timestamp</th>\n",
              "    </tr>\n",
              "  </thead>\n",
              "  <tbody>\n",
              "    <tr>\n",
              "      <th>0</th>\n",
              "      <td>00010242fe8c5a6d1ba2dd792cb16214</td>\n",
              "      <td>1</td>\n",
              "      <td>4244733e06e7ecb4970a6e2683c13e61</td>\n",
              "      <td>48436dade18ac8b2bce089ec2a041202</td>\n",
              "      <td>2017-09-19 09:45:35</td>\n",
              "      <td>58.90</td>\n",
              "      <td>13.29</td>\n",
              "      <td>97ca439bc427b48bc1cd7177abe71365</td>\n",
              "      <td>5.0</td>\n",
              "      <td>NaN</td>\n",
              "      <td>Perfeito, produto entregue antes do combinado.</td>\n",
              "      <td>2017-09-21 00:00:00</td>\n",
              "      <td>2017-09-22 10:57:03</td>\n",
              "    </tr>\n",
              "    <tr>\n",
              "      <th>1</th>\n",
              "      <td>00018f77f2f0320c557190d7a144bdd3</td>\n",
              "      <td>1</td>\n",
              "      <td>e5f2d52b802189ee658865ca93d83a8f</td>\n",
              "      <td>dd7ddc04e1b6c2c614352b383efe2d36</td>\n",
              "      <td>2017-05-03 11:05:13</td>\n",
              "      <td>239.90</td>\n",
              "      <td>19.93</td>\n",
              "      <td>7b07bacd811c4117b742569b04ce3580</td>\n",
              "      <td>4.0</td>\n",
              "      <td>NaN</td>\n",
              "      <td>NaN</td>\n",
              "      <td>2017-05-13 00:00:00</td>\n",
              "      <td>2017-05-15 11:34:13</td>\n",
              "    </tr>\n",
              "    <tr>\n",
              "      <th>2</th>\n",
              "      <td>000229ec398224ef6ca0657da4fc703e</td>\n",
              "      <td>1</td>\n",
              "      <td>c777355d18b72b67abbeef9df44fd0fd</td>\n",
              "      <td>5b51032eddd242adc84c38acab88f23d</td>\n",
              "      <td>2018-01-18 14:48:30</td>\n",
              "      <td>199.00</td>\n",
              "      <td>17.87</td>\n",
              "      <td>0c5b33dea94867d1ac402749e5438e8b</td>\n",
              "      <td>5.0</td>\n",
              "      <td>NaN</td>\n",
              "      <td>Chegou antes do prazo previsto e o produto sur...</td>\n",
              "      <td>2018-01-23 00:00:00</td>\n",
              "      <td>2018-01-23 16:06:31</td>\n",
              "    </tr>\n",
              "    <tr>\n",
              "      <th>3</th>\n",
              "      <td>00024acbcdf0a6daa1e931b038114c75</td>\n",
              "      <td>1</td>\n",
              "      <td>7634da152a4610f1595efa32f14722fc</td>\n",
              "      <td>9d7a1d34a5052409006425275ba1c2b4</td>\n",
              "      <td>2018-08-15 10:10:18</td>\n",
              "      <td>12.99</td>\n",
              "      <td>12.79</td>\n",
              "      <td>f4028d019cb58564807486a6aaf33817</td>\n",
              "      <td>4.0</td>\n",
              "      <td>NaN</td>\n",
              "      <td>NaN</td>\n",
              "      <td>2018-08-15 00:00:00</td>\n",
              "      <td>2018-08-15 16:39:01</td>\n",
              "    </tr>\n",
              "    <tr>\n",
              "      <th>4</th>\n",
              "      <td>00042b26cf59d7ce69dfabb4e55b4fd9</td>\n",
              "      <td>1</td>\n",
              "      <td>ac6c3623068f30de03045865e4e10089</td>\n",
              "      <td>df560393f3a51e74553ab94004ba5c87</td>\n",
              "      <td>2017-02-13 13:57:51</td>\n",
              "      <td>199.90</td>\n",
              "      <td>18.14</td>\n",
              "      <td>940144190dcba6351888cafa43f3a3a5</td>\n",
              "      <td>5.0</td>\n",
              "      <td>NaN</td>\n",
              "      <td>Gostei pois veio no prazo determinado .</td>\n",
              "      <td>2017-03-02 00:00:00</td>\n",
              "      <td>2017-03-03 10:54:59</td>\n",
              "    </tr>\n",
              "  </tbody>\n",
              "</table>\n",
              "</div>"
            ],
            "text/plain": [
              "                           order_id  order_item_id  \\\n",
              "0  00010242fe8c5a6d1ba2dd792cb16214              1   \n",
              "1  00018f77f2f0320c557190d7a144bdd3              1   \n",
              "2  000229ec398224ef6ca0657da4fc703e              1   \n",
              "3  00024acbcdf0a6daa1e931b038114c75              1   \n",
              "4  00042b26cf59d7ce69dfabb4e55b4fd9              1   \n",
              "\n",
              "                         product_id                         seller_id  \\\n",
              "0  4244733e06e7ecb4970a6e2683c13e61  48436dade18ac8b2bce089ec2a041202   \n",
              "1  e5f2d52b802189ee658865ca93d83a8f  dd7ddc04e1b6c2c614352b383efe2d36   \n",
              "2  c777355d18b72b67abbeef9df44fd0fd  5b51032eddd242adc84c38acab88f23d   \n",
              "3  7634da152a4610f1595efa32f14722fc  9d7a1d34a5052409006425275ba1c2b4   \n",
              "4  ac6c3623068f30de03045865e4e10089  df560393f3a51e74553ab94004ba5c87   \n",
              "\n",
              "   shipping_limit_date   price  freight_value  \\\n",
              "0  2017-09-19 09:45:35   58.90          13.29   \n",
              "1  2017-05-03 11:05:13  239.90          19.93   \n",
              "2  2018-01-18 14:48:30  199.00          17.87   \n",
              "3  2018-08-15 10:10:18   12.99          12.79   \n",
              "4  2017-02-13 13:57:51  199.90          18.14   \n",
              "\n",
              "                          review_id  review_score review_comment_title  \\\n",
              "0  97ca439bc427b48bc1cd7177abe71365           5.0                  NaN   \n",
              "1  7b07bacd811c4117b742569b04ce3580           4.0                  NaN   \n",
              "2  0c5b33dea94867d1ac402749e5438e8b           5.0                  NaN   \n",
              "3  f4028d019cb58564807486a6aaf33817           4.0                  NaN   \n",
              "4  940144190dcba6351888cafa43f3a3a5           5.0                  NaN   \n",
              "\n",
              "                              review_comment_message review_creation_date  \\\n",
              "0     Perfeito, produto entregue antes do combinado.  2017-09-21 00:00:00   \n",
              "1                                                NaN  2017-05-13 00:00:00   \n",
              "2  Chegou antes do prazo previsto e o produto sur...  2018-01-23 00:00:00   \n",
              "3                                                NaN  2018-08-15 00:00:00   \n",
              "4            Gostei pois veio no prazo determinado .  2017-03-02 00:00:00   \n",
              "\n",
              "  review_answer_timestamp  \n",
              "0     2017-09-22 10:57:03  \n",
              "1     2017-05-15 11:34:13  \n",
              "2     2018-01-23 16:06:31  \n",
              "3     2018-08-15 16:39:01  \n",
              "4     2017-03-03 10:54:59  "
            ]
          },
          "execution_count": 21,
          "metadata": {},
          "output_type": "execute_result"
        }
      ],
      "source": [
        "order_review = pd.merge(\n",
        "    left=order_item_df,\n",
        "    right=review_df,\n",
        "    how=\"left\",\n",
        "    left_on=\"order_id\",\n",
        "    right_on=\"order_id\"\n",
        ")\n",
        "order_review.head()"
      ]
    },
    {
      "cell_type": "code",
      "execution_count": 22,
      "metadata": {},
      "outputs": [
        {
          "data": {
            "text/html": [
              "<div>\n",
              "<style scoped>\n",
              "    .dataframe tbody tr th:only-of-type {\n",
              "        vertical-align: middle;\n",
              "    }\n",
              "\n",
              "    .dataframe tbody tr th {\n",
              "        vertical-align: top;\n",
              "    }\n",
              "\n",
              "    .dataframe thead th {\n",
              "        text-align: right;\n",
              "    }\n",
              "</style>\n",
              "<table border=\"1\" class=\"dataframe\">\n",
              "  <thead>\n",
              "    <tr style=\"text-align: right;\">\n",
              "      <th></th>\n",
              "      <th>order_id</th>\n",
              "      <th>order_item_id</th>\n",
              "      <th>product_id</th>\n",
              "      <th>seller_id</th>\n",
              "      <th>shipping_limit_date</th>\n",
              "      <th>price</th>\n",
              "      <th>freight_value</th>\n",
              "      <th>review_id</th>\n",
              "      <th>review_score</th>\n",
              "      <th>review_comment_title</th>\n",
              "      <th>review_comment_message</th>\n",
              "      <th>review_creation_date</th>\n",
              "      <th>review_answer_timestamp</th>\n",
              "      <th>customer_id</th>\n",
              "      <th>order_status</th>\n",
              "      <th>order_purchase_timestamp</th>\n",
              "      <th>order_approved_at</th>\n",
              "      <th>order_delivered_carrier_date</th>\n",
              "      <th>order_delivered_customer_date</th>\n",
              "      <th>order_estimated_delivery_date</th>\n",
              "    </tr>\n",
              "  </thead>\n",
              "  <tbody>\n",
              "    <tr>\n",
              "      <th>0</th>\n",
              "      <td>00010242fe8c5a6d1ba2dd792cb16214</td>\n",
              "      <td>1</td>\n",
              "      <td>4244733e06e7ecb4970a6e2683c13e61</td>\n",
              "      <td>48436dade18ac8b2bce089ec2a041202</td>\n",
              "      <td>2017-09-19 09:45:35</td>\n",
              "      <td>58.90</td>\n",
              "      <td>13.29</td>\n",
              "      <td>97ca439bc427b48bc1cd7177abe71365</td>\n",
              "      <td>5.0</td>\n",
              "      <td>NaN</td>\n",
              "      <td>Perfeito, produto entregue antes do combinado.</td>\n",
              "      <td>2017-09-21 00:00:00</td>\n",
              "      <td>2017-09-22 10:57:03</td>\n",
              "      <td>3ce436f183e68e07877b285a838db11a</td>\n",
              "      <td>delivered</td>\n",
              "      <td>2017-09-13 08:59:02</td>\n",
              "      <td>2017-09-13 09:45:35</td>\n",
              "      <td>2017-09-19 18:34:16</td>\n",
              "      <td>2017-09-20 23:43:48</td>\n",
              "      <td>2017-09-29 00:00:00</td>\n",
              "    </tr>\n",
              "    <tr>\n",
              "      <th>1</th>\n",
              "      <td>00018f77f2f0320c557190d7a144bdd3</td>\n",
              "      <td>1</td>\n",
              "      <td>e5f2d52b802189ee658865ca93d83a8f</td>\n",
              "      <td>dd7ddc04e1b6c2c614352b383efe2d36</td>\n",
              "      <td>2017-05-03 11:05:13</td>\n",
              "      <td>239.90</td>\n",
              "      <td>19.93</td>\n",
              "      <td>7b07bacd811c4117b742569b04ce3580</td>\n",
              "      <td>4.0</td>\n",
              "      <td>NaN</td>\n",
              "      <td>NaN</td>\n",
              "      <td>2017-05-13 00:00:00</td>\n",
              "      <td>2017-05-15 11:34:13</td>\n",
              "      <td>f6dd3ec061db4e3987629fe6b26e5cce</td>\n",
              "      <td>delivered</td>\n",
              "      <td>2017-04-26 10:53:06</td>\n",
              "      <td>2017-04-26 11:05:13</td>\n",
              "      <td>2017-05-04 14:35:00</td>\n",
              "      <td>2017-05-12 16:04:24</td>\n",
              "      <td>2017-05-15 00:00:00</td>\n",
              "    </tr>\n",
              "    <tr>\n",
              "      <th>2</th>\n",
              "      <td>000229ec398224ef6ca0657da4fc703e</td>\n",
              "      <td>1</td>\n",
              "      <td>c777355d18b72b67abbeef9df44fd0fd</td>\n",
              "      <td>5b51032eddd242adc84c38acab88f23d</td>\n",
              "      <td>2018-01-18 14:48:30</td>\n",
              "      <td>199.00</td>\n",
              "      <td>17.87</td>\n",
              "      <td>0c5b33dea94867d1ac402749e5438e8b</td>\n",
              "      <td>5.0</td>\n",
              "      <td>NaN</td>\n",
              "      <td>Chegou antes do prazo previsto e o produto sur...</td>\n",
              "      <td>2018-01-23 00:00:00</td>\n",
              "      <td>2018-01-23 16:06:31</td>\n",
              "      <td>6489ae5e4333f3693df5ad4372dab6d3</td>\n",
              "      <td>delivered</td>\n",
              "      <td>2018-01-14 14:33:31</td>\n",
              "      <td>2018-01-14 14:48:30</td>\n",
              "      <td>2018-01-16 12:36:48</td>\n",
              "      <td>2018-01-22 13:19:16</td>\n",
              "      <td>2018-02-05 00:00:00</td>\n",
              "    </tr>\n",
              "    <tr>\n",
              "      <th>3</th>\n",
              "      <td>00024acbcdf0a6daa1e931b038114c75</td>\n",
              "      <td>1</td>\n",
              "      <td>7634da152a4610f1595efa32f14722fc</td>\n",
              "      <td>9d7a1d34a5052409006425275ba1c2b4</td>\n",
              "      <td>2018-08-15 10:10:18</td>\n",
              "      <td>12.99</td>\n",
              "      <td>12.79</td>\n",
              "      <td>f4028d019cb58564807486a6aaf33817</td>\n",
              "      <td>4.0</td>\n",
              "      <td>NaN</td>\n",
              "      <td>NaN</td>\n",
              "      <td>2018-08-15 00:00:00</td>\n",
              "      <td>2018-08-15 16:39:01</td>\n",
              "      <td>d4eb9395c8c0431ee92fce09860c5a06</td>\n",
              "      <td>delivered</td>\n",
              "      <td>2018-08-08 10:00:35</td>\n",
              "      <td>2018-08-08 10:10:18</td>\n",
              "      <td>2018-08-10 13:28:00</td>\n",
              "      <td>2018-08-14 13:32:39</td>\n",
              "      <td>2018-08-20 00:00:00</td>\n",
              "    </tr>\n",
              "    <tr>\n",
              "      <th>4</th>\n",
              "      <td>00042b26cf59d7ce69dfabb4e55b4fd9</td>\n",
              "      <td>1</td>\n",
              "      <td>ac6c3623068f30de03045865e4e10089</td>\n",
              "      <td>df560393f3a51e74553ab94004ba5c87</td>\n",
              "      <td>2017-02-13 13:57:51</td>\n",
              "      <td>199.90</td>\n",
              "      <td>18.14</td>\n",
              "      <td>940144190dcba6351888cafa43f3a3a5</td>\n",
              "      <td>5.0</td>\n",
              "      <td>NaN</td>\n",
              "      <td>Gostei pois veio no prazo determinado .</td>\n",
              "      <td>2017-03-02 00:00:00</td>\n",
              "      <td>2017-03-03 10:54:59</td>\n",
              "      <td>58dbd0b2d70206bf40e62cd34e84d795</td>\n",
              "      <td>delivered</td>\n",
              "      <td>2017-02-04 13:57:51</td>\n",
              "      <td>2017-02-04 14:10:13</td>\n",
              "      <td>2017-02-16 09:46:09</td>\n",
              "      <td>2017-03-01 16:42:31</td>\n",
              "      <td>2017-03-17 00:00:00</td>\n",
              "    </tr>\n",
              "  </tbody>\n",
              "</table>\n",
              "</div>"
            ],
            "text/plain": [
              "                           order_id  order_item_id  \\\n",
              "0  00010242fe8c5a6d1ba2dd792cb16214              1   \n",
              "1  00018f77f2f0320c557190d7a144bdd3              1   \n",
              "2  000229ec398224ef6ca0657da4fc703e              1   \n",
              "3  00024acbcdf0a6daa1e931b038114c75              1   \n",
              "4  00042b26cf59d7ce69dfabb4e55b4fd9              1   \n",
              "\n",
              "                         product_id                         seller_id  \\\n",
              "0  4244733e06e7ecb4970a6e2683c13e61  48436dade18ac8b2bce089ec2a041202   \n",
              "1  e5f2d52b802189ee658865ca93d83a8f  dd7ddc04e1b6c2c614352b383efe2d36   \n",
              "2  c777355d18b72b67abbeef9df44fd0fd  5b51032eddd242adc84c38acab88f23d   \n",
              "3  7634da152a4610f1595efa32f14722fc  9d7a1d34a5052409006425275ba1c2b4   \n",
              "4  ac6c3623068f30de03045865e4e10089  df560393f3a51e74553ab94004ba5c87   \n",
              "\n",
              "   shipping_limit_date   price  freight_value  \\\n",
              "0  2017-09-19 09:45:35   58.90          13.29   \n",
              "1  2017-05-03 11:05:13  239.90          19.93   \n",
              "2  2018-01-18 14:48:30  199.00          17.87   \n",
              "3  2018-08-15 10:10:18   12.99          12.79   \n",
              "4  2017-02-13 13:57:51  199.90          18.14   \n",
              "\n",
              "                          review_id  review_score review_comment_title  \\\n",
              "0  97ca439bc427b48bc1cd7177abe71365           5.0                  NaN   \n",
              "1  7b07bacd811c4117b742569b04ce3580           4.0                  NaN   \n",
              "2  0c5b33dea94867d1ac402749e5438e8b           5.0                  NaN   \n",
              "3  f4028d019cb58564807486a6aaf33817           4.0                  NaN   \n",
              "4  940144190dcba6351888cafa43f3a3a5           5.0                  NaN   \n",
              "\n",
              "                              review_comment_message review_creation_date  \\\n",
              "0     Perfeito, produto entregue antes do combinado.  2017-09-21 00:00:00   \n",
              "1                                                NaN  2017-05-13 00:00:00   \n",
              "2  Chegou antes do prazo previsto e o produto sur...  2018-01-23 00:00:00   \n",
              "3                                                NaN  2018-08-15 00:00:00   \n",
              "4            Gostei pois veio no prazo determinado .  2017-03-02 00:00:00   \n",
              "\n",
              "  review_answer_timestamp                       customer_id order_status  \\\n",
              "0     2017-09-22 10:57:03  3ce436f183e68e07877b285a838db11a    delivered   \n",
              "1     2017-05-15 11:34:13  f6dd3ec061db4e3987629fe6b26e5cce    delivered   \n",
              "2     2018-01-23 16:06:31  6489ae5e4333f3693df5ad4372dab6d3    delivered   \n",
              "3     2018-08-15 16:39:01  d4eb9395c8c0431ee92fce09860c5a06    delivered   \n",
              "4     2017-03-03 10:54:59  58dbd0b2d70206bf40e62cd34e84d795    delivered   \n",
              "\n",
              "  order_purchase_timestamp    order_approved_at order_delivered_carrier_date  \\\n",
              "0      2017-09-13 08:59:02  2017-09-13 09:45:35          2017-09-19 18:34:16   \n",
              "1      2017-04-26 10:53:06  2017-04-26 11:05:13          2017-05-04 14:35:00   \n",
              "2      2018-01-14 14:33:31  2018-01-14 14:48:30          2018-01-16 12:36:48   \n",
              "3      2018-08-08 10:00:35  2018-08-08 10:10:18          2018-08-10 13:28:00   \n",
              "4      2017-02-04 13:57:51  2017-02-04 14:10:13          2017-02-16 09:46:09   \n",
              "\n",
              "  order_delivered_customer_date order_estimated_delivery_date  \n",
              "0           2017-09-20 23:43:48           2017-09-29 00:00:00  \n",
              "1           2017-05-12 16:04:24           2017-05-15 00:00:00  \n",
              "2           2018-01-22 13:19:16           2018-02-05 00:00:00  \n",
              "3           2018-08-14 13:32:39           2018-08-20 00:00:00  \n",
              "4           2017-03-01 16:42:31           2017-03-17 00:00:00  "
            ]
          },
          "execution_count": 22,
          "metadata": {},
          "output_type": "execute_result"
        }
      ],
      "source": [
        "all_df = pd.merge(\n",
        "    left=order_review,\n",
        "    right=purchase_time_df,\n",
        "    how=\"left\",\n",
        "    left_on=\"order_id\",\n",
        "    right_on=\"order_id\"\n",
        ")\n",
        "all_df.head()"
      ]
    },
    {
      "cell_type": "code",
      "execution_count": 156,
      "metadata": {},
      "outputs": [],
      "source": [
        "all_df.to_csv(\"all_data.csv\", index=False)"
      ]
    },
    {
      "cell_type": "code",
      "execution_count": 159,
      "metadata": {},
      "outputs": [
        {
          "name": "stdout",
          "output_type": "stream",
          "text": [
            "Collecting activateNote: you may need to restart the kernel to use updated packages.\n"
          ]
        },
        {
          "name": "stderr",
          "output_type": "stream",
          "text": [
            "ERROR: Could not find a version that satisfies the requirement main-ds (from versions: none)\n",
            "ERROR: No matching distribution found for main-ds\n"
          ]
        },
        {
          "name": "stdout",
          "output_type": "stream",
          "text": [
            "\n",
            "  Downloading activate-0.2.1-py3-none-any.whl.metadata (1.2 kB)\n"
          ]
        }
      ],
      "source": [
        "pip install activate main-ds"
      ]
    },
    {
      "cell_type": "code",
      "execution_count": 162,
      "metadata": {},
      "outputs": [
        {
          "name": "stdout",
          "output_type": "stream",
          "text": [
            "Requirement already satisfied: streamlit in c:\\users\\laras\\appdata\\local\\packages\\pythonsoftwarefoundation.python.3.11_qbz5n2kfra8p0\\localcache\\local-packages\\python311\\site-packages (1.39.0)\n",
            "Collecting babel\n",
            "  Using cached babel-2.16.0-py3-none-any.whl.metadata (1.5 kB)\n",
            "Requirement already satisfied: altair<6,>=4.0 in c:\\users\\laras\\appdata\\local\\packages\\pythonsoftwarefoundation.python.3.11_qbz5n2kfra8p0\\localcache\\local-packages\\python311\\site-packages (from streamlit) (5.4.1)\n",
            "Requirement already satisfied: blinker<2,>=1.0.0 in c:\\users\\laras\\appdata\\local\\packages\\pythonsoftwarefoundation.python.3.11_qbz5n2kfra8p0\\localcache\\local-packages\\python311\\site-packages (from streamlit) (1.8.2)\n",
            "Requirement already satisfied: cachetools<6,>=4.0 in c:\\users\\laras\\appdata\\local\\packages\\pythonsoftwarefoundation.python.3.11_qbz5n2kfra8p0\\localcache\\local-packages\\python311\\site-packages (from streamlit) (5.5.0)\n",
            "Requirement already satisfied: click<9,>=7.0 in c:\\users\\laras\\appdata\\local\\packages\\pythonsoftwarefoundation.python.3.11_qbz5n2kfra8p0\\localcache\\local-packages\\python311\\site-packages (from streamlit) (8.1.7)\n",
            "Requirement already satisfied: numpy<3,>=1.20 in c:\\users\\laras\\appdata\\local\\packages\\pythonsoftwarefoundation.python.3.11_qbz5n2kfra8p0\\localcache\\local-packages\\python311\\site-packages (from streamlit) (1.26.4)\n",
            "Requirement already satisfied: packaging<25,>=20 in c:\\users\\laras\\appdata\\local\\packages\\pythonsoftwarefoundation.python.3.11_qbz5n2kfra8p0\\localcache\\local-packages\\python311\\site-packages (from streamlit) (24.0)\n",
            "Requirement already satisfied: pandas<3,>=1.4.0 in c:\\users\\laras\\appdata\\local\\packages\\pythonsoftwarefoundation.python.3.11_qbz5n2kfra8p0\\localcache\\local-packages\\python311\\site-packages (from streamlit) (2.2.2)\n",
            "Requirement already satisfied: pillow<11,>=7.1.0 in c:\\users\\laras\\appdata\\local\\packages\\pythonsoftwarefoundation.python.3.11_qbz5n2kfra8p0\\localcache\\local-packages\\python311\\site-packages (from streamlit) (10.3.0)\n",
            "Requirement already satisfied: protobuf<6,>=3.20 in c:\\users\\laras\\appdata\\local\\packages\\pythonsoftwarefoundation.python.3.11_qbz5n2kfra8p0\\localcache\\local-packages\\python311\\site-packages (from streamlit) (5.28.2)\n",
            "Requirement already satisfied: pyarrow>=7.0 in c:\\users\\laras\\appdata\\local\\packages\\pythonsoftwarefoundation.python.3.11_qbz5n2kfra8p0\\localcache\\local-packages\\python311\\site-packages (from streamlit) (17.0.0)\n",
            "Requirement already satisfied: requests<3,>=2.27 in c:\\users\\laras\\appdata\\local\\packages\\pythonsoftwarefoundation.python.3.11_qbz5n2kfra8p0\\localcache\\local-packages\\python311\\site-packages (from streamlit) (2.32.3)\n",
            "Requirement already satisfied: rich<14,>=10.14.0 in c:\\users\\laras\\appdata\\local\\packages\\pythonsoftwarefoundation.python.3.11_qbz5n2kfra8p0\\localcache\\local-packages\\python311\\site-packages (from streamlit) (13.9.1)\n",
            "Requirement already satisfied: tenacity<10,>=8.1.0 in c:\\users\\laras\\appdata\\local\\packages\\pythonsoftwarefoundation.python.3.11_qbz5n2kfra8p0\\localcache\\local-packages\\python311\\site-packages (from streamlit) (9.0.0)\n",
            "Requirement already satisfied: toml<2,>=0.10.1 in c:\\users\\laras\\appdata\\local\\packages\\pythonsoftwarefoundation.python.3.11_qbz5n2kfra8p0\\localcache\\local-packages\\python311\\site-packages (from streamlit) (0.10.2)\n",
            "Requirement already satisfied: typing-extensions<5,>=4.3.0 in c:\\users\\laras\\appdata\\local\\packages\\pythonsoftwarefoundation.python.3.11_qbz5n2kfra8p0\\localcache\\local-packages\\python311\\site-packages (from streamlit) (4.12.1)\n",
            "Requirement already satisfied: gitpython!=3.1.19,<4,>=3.0.7 in c:\\users\\laras\\appdata\\local\\packages\\pythonsoftwarefoundation.python.3.11_qbz5n2kfra8p0\\localcache\\local-packages\\python311\\site-packages (from streamlit) (3.1.43)\n",
            "Requirement already satisfied: pydeck<1,>=0.8.0b4 in c:\\users\\laras\\appdata\\local\\packages\\pythonsoftwarefoundation.python.3.11_qbz5n2kfra8p0\\localcache\\local-packages\\python311\\site-packages (from streamlit) (0.9.1)\n",
            "Requirement already satisfied: tornado<7,>=6.0.3 in c:\\users\\laras\\appdata\\local\\packages\\pythonsoftwarefoundation.python.3.11_qbz5n2kfra8p0\\localcache\\local-packages\\python311\\site-packages (from streamlit) (6.4)\n",
            "Requirement already satisfied: watchdog<6,>=2.1.5 in c:\\users\\laras\\appdata\\local\\packages\\pythonsoftwarefoundation.python.3.11_qbz5n2kfra8p0\\localcache\\local-packages\\python311\\site-packages (from streamlit) (5.0.3)\n",
            "Requirement already satisfied: jinja2 in c:\\users\\laras\\appdata\\local\\packages\\pythonsoftwarefoundation.python.3.11_qbz5n2kfra8p0\\localcache\\local-packages\\python311\\site-packages (from altair<6,>=4.0->streamlit) (3.1.4)\n",
            "Requirement already satisfied: jsonschema>=3.0 in c:\\users\\laras\\appdata\\local\\packages\\pythonsoftwarefoundation.python.3.11_qbz5n2kfra8p0\\localcache\\local-packages\\python311\\site-packages (from altair<6,>=4.0->streamlit) (4.23.0)\n",
            "Requirement already satisfied: narwhals>=1.5.2 in c:\\users\\laras\\appdata\\local\\packages\\pythonsoftwarefoundation.python.3.11_qbz5n2kfra8p0\\localcache\\local-packages\\python311\\site-packages (from altair<6,>=4.0->streamlit) (1.9.0)\n",
            "Requirement already satisfied: colorama in c:\\users\\laras\\appdata\\local\\packages\\pythonsoftwarefoundation.python.3.11_qbz5n2kfra8p0\\localcache\\local-packages\\python311\\site-packages (from click<9,>=7.0->streamlit) (0.4.6)\n",
            "Requirement already satisfied: gitdb<5,>=4.0.1 in c:\\users\\laras\\appdata\\local\\packages\\pythonsoftwarefoundation.python.3.11_qbz5n2kfra8p0\\localcache\\local-packages\\python311\\site-packages (from gitpython!=3.1.19,<4,>=3.0.7->streamlit) (4.0.11)\n",
            "Requirement already satisfied: python-dateutil>=2.8.2 in c:\\users\\laras\\appdata\\local\\packages\\pythonsoftwarefoundation.python.3.11_qbz5n2kfra8p0\\localcache\\local-packages\\python311\\site-packages (from pandas<3,>=1.4.0->streamlit) (2.9.0.post0)\n",
            "Requirement already satisfied: pytz>=2020.1 in c:\\users\\laras\\appdata\\local\\packages\\pythonsoftwarefoundation.python.3.11_qbz5n2kfra8p0\\localcache\\local-packages\\python311\\site-packages (from pandas<3,>=1.4.0->streamlit) (2024.1)\n",
            "Requirement already satisfied: tzdata>=2022.7 in c:\\users\\laras\\appdata\\local\\packages\\pythonsoftwarefoundation.python.3.11_qbz5n2kfra8p0\\localcache\\local-packages\\python311\\site-packages (from pandas<3,>=1.4.0->streamlit) (2024.1)\n",
            "Requirement already satisfied: charset-normalizer<4,>=2 in c:\\users\\laras\\appdata\\local\\packages\\pythonsoftwarefoundation.python.3.11_qbz5n2kfra8p0\\localcache\\local-packages\\python311\\site-packages (from requests<3,>=2.27->streamlit) (3.3.2)\n",
            "Requirement already satisfied: idna<4,>=2.5 in c:\\users\\laras\\appdata\\local\\packages\\pythonsoftwarefoundation.python.3.11_qbz5n2kfra8p0\\localcache\\local-packages\\python311\\site-packages (from requests<3,>=2.27->streamlit) (3.10)\n",
            "Requirement already satisfied: urllib3<3,>=1.21.1 in c:\\users\\laras\\appdata\\local\\packages\\pythonsoftwarefoundation.python.3.11_qbz5n2kfra8p0\\localcache\\local-packages\\python311\\site-packages (from requests<3,>=2.27->streamlit) (2.2.3)\n",
            "Requirement already satisfied: certifi>=2017.4.17 in c:\\users\\laras\\appdata\\local\\packages\\pythonsoftwarefoundation.python.3.11_qbz5n2kfra8p0\\localcache\\local-packages\\python311\\site-packages (from requests<3,>=2.27->streamlit) (2024.8.30)\n",
            "Requirement already satisfied: markdown-it-py>=2.2.0 in c:\\users\\laras\\appdata\\local\\packages\\pythonsoftwarefoundation.python.3.11_qbz5n2kfra8p0\\localcache\\local-packages\\python311\\site-packages (from rich<14,>=10.14.0->streamlit) (3.0.0)\n",
            "Requirement already satisfied: pygments<3.0.0,>=2.13.0 in c:\\users\\laras\\appdata\\local\\packages\\pythonsoftwarefoundation.python.3.11_qbz5n2kfra8p0\\localcache\\local-packages\\python311\\site-packages (from rich<14,>=10.14.0->streamlit) (2.18.0)\n",
            "Requirement already satisfied: smmap<6,>=3.0.1 in c:\\users\\laras\\appdata\\local\\packages\\pythonsoftwarefoundation.python.3.11_qbz5n2kfra8p0\\localcache\\local-packages\\python311\\site-packages (from gitdb<5,>=4.0.1->gitpython!=3.1.19,<4,>=3.0.7->streamlit) (5.0.1)\n",
            "Requirement already satisfied: MarkupSafe>=2.0 in c:\\users\\laras\\appdata\\local\\packages\\pythonsoftwarefoundation.python.3.11_qbz5n2kfra8p0\\localcache\\local-packages\\python311\\site-packages (from jinja2->altair<6,>=4.0->streamlit) (2.1.5)\n",
            "Requirement already satisfied: attrs>=22.2.0 in c:\\users\\laras\\appdata\\local\\packages\\pythonsoftwarefoundation.python.3.11_qbz5n2kfra8p0\\localcache\\local-packages\\python311\\site-packages (from jsonschema>=3.0->altair<6,>=4.0->streamlit) (24.2.0)\n",
            "Requirement already satisfied: jsonschema-specifications>=2023.03.6 in c:\\users\\laras\\appdata\\local\\packages\\pythonsoftwarefoundation.python.3.11_qbz5n2kfra8p0\\localcache\\local-packages\\python311\\site-packages (from jsonschema>=3.0->altair<6,>=4.0->streamlit) (2023.12.1)\n",
            "Requirement already satisfied: referencing>=0.28.4 in c:\\users\\laras\\appdata\\local\\packages\\pythonsoftwarefoundation.python.3.11_qbz5n2kfra8p0\\localcache\\local-packages\\python311\\site-packages (from jsonschema>=3.0->altair<6,>=4.0->streamlit) (0.35.1)\n",
            "Requirement already satisfied: rpds-py>=0.7.1 in c:\\users\\laras\\appdata\\local\\packages\\pythonsoftwarefoundation.python.3.11_qbz5n2kfra8p0\\localcache\\local-packages\\python311\\site-packages (from jsonschema>=3.0->altair<6,>=4.0->streamlit) (0.20.0)\n",
            "Requirement already satisfied: mdurl~=0.1 in c:\\users\\laras\\appdata\\local\\packages\\pythonsoftwarefoundation.python.3.11_qbz5n2kfra8p0\\localcache\\local-packages\\python311\\site-packages (from markdown-it-py>=2.2.0->rich<14,>=10.14.0->streamlit) (0.1.2)\n",
            "Requirement already satisfied: six>=1.5 in c:\\users\\laras\\appdata\\local\\packages\\pythonsoftwarefoundation.python.3.11_qbz5n2kfra8p0\\localcache\\local-packages\\python311\\site-packages (from python-dateutil>=2.8.2->pandas<3,>=1.4.0->streamlit) (1.16.0)\n",
            "Using cached babel-2.16.0-py3-none-any.whl (9.6 MB)\n",
            "Installing collected packages: babel\n",
            "Successfully installed babel-2.16.0\n",
            "Note: you may need to restart the kernel to use updated packages.\n"
          ]
        }
      ],
      "source": [
        "pip install streamlit babel"
      ]
    },
    {
      "cell_type": "code",
      "execution_count": 23,
      "metadata": {},
      "outputs": [
        {
          "name": "stdout",
          "output_type": "stream",
          "text": [
            "<class 'pandas.core.frame.DataFrame'>\n",
            "RangeIndex: 113314 entries, 0 to 113313\n",
            "Data columns (total 20 columns):\n",
            " #   Column                         Non-Null Count   Dtype  \n",
            "---  ------                         --------------   -----  \n",
            " 0   order_id                       113314 non-null  object \n",
            " 1   order_item_id                  113314 non-null  int64  \n",
            " 2   product_id                     113314 non-null  object \n",
            " 3   seller_id                      113314 non-null  object \n",
            " 4   shipping_limit_date            113314 non-null  object \n",
            " 5   price                          113314 non-null  float64\n",
            " 6   freight_value                  113314 non-null  float64\n",
            " 7   review_id                      112372 non-null  object \n",
            " 8   review_score                   112372 non-null  float64\n",
            " 9   review_comment_title           13434 non-null   object \n",
            " 10  review_comment_message         47642 non-null   object \n",
            " 11  review_creation_date           112372 non-null  object \n",
            " 12  review_answer_timestamp        112372 non-null  object \n",
            " 13  customer_id                    113314 non-null  object \n",
            " 14  order_status                   113314 non-null  object \n",
            " 15  order_purchase_timestamp       113314 non-null  object \n",
            " 16  order_approved_at              113299 non-null  object \n",
            " 17  order_delivered_carrier_date   112111 non-null  object \n",
            " 18  order_delivered_customer_date  110839 non-null  object \n",
            " 19  order_estimated_delivery_date  113314 non-null  object \n",
            "dtypes: float64(3), int64(1), object(16)\n",
            "memory usage: 17.3+ MB\n"
          ]
        }
      ],
      "source": [
        "all_df.info()"
      ]
    },
    {
      "cell_type": "code",
      "execution_count": 28,
      "metadata": {},
      "outputs": [
        {
          "name": "stdout",
          "output_type": "stream",
          "text": [
            "order_id                                 object\n",
            "order_item_id                             int64\n",
            "product_id                               object\n",
            "seller_id                                object\n",
            "shipping_limit_date                      object\n",
            "price                                   float64\n",
            "freight_value                           float64\n",
            "review_id                                object\n",
            "review_score                            float64\n",
            "review_comment_title                     object\n",
            "review_comment_message                   object\n",
            "review_creation_date                     object\n",
            "review_answer_timestamp                  object\n",
            "customer_id                              object\n",
            "order_status                             object\n",
            "order_purchase_timestamp         datetime64[ns]\n",
            "order_approved_at                        object\n",
            "order_delivered_carrier_date     datetime64[ns]\n",
            "order_delivered_customer_date            object\n",
            "order_estimated_delivery_date            object\n",
            "dtype: object\n"
          ]
        }
      ],
      "source": [
        "# Mengubah kolom 'order_purchase_timestamp' menjadi tipe datetime\n",
        "all_df['order_purchase_timestamp'] = pd.to_datetime(all_df['order_purchase_timestamp'])\n",
        "all_df['order_delivered_carrier_date'] = pd.to_datetime(all_df['order_delivered_carrier_date'])\n",
        "# Cek tipe data setelah konversi\n",
        "print(all_df.dtypes)\n"
      ]
    },
    {
      "cell_type": "code",
      "execution_count": 30,
      "metadata": {},
      "outputs": [
        {
          "name": "stdout",
          "output_type": "stream",
          "text": [
            "altair==5.4.1Note: you may need to restart the kernel to use updated packages.\n",
            "\n",
            "asttokens==2.4.1\n",
            "attrs==24.2.0\n",
            "babel==2.16.0\n",
            "blinker==1.8.2\n",
            "cachetools==5.5.0\n",
            "certifi==2024.8.30\n",
            "charset-normalizer==3.3.2\n",
            "click==8.1.7\n",
            "colorama==0.4.6\n",
            "comm==0.2.2\n",
            "contourpy==1.2.1\n",
            "cycler==0.12.1\n",
            "debugpy==1.8.1\n",
            "decorator==5.1.1\n",
            "et-xmlfile==1.1.0\n",
            "executing==2.0.1\n",
            "fonttools==4.53.0\n",
            "gitdb==4.0.11\n",
            "GitPython==3.1.43\n",
            "idna==3.10\n",
            "ipykernel==6.29.4\n",
            "ipython==8.25.0\n",
            "jedi==0.19.1\n",
            "Jinja2==3.1.4\n",
            "joblib==1.4.2\n",
            "jsonschema==4.23.0\n",
            "jsonschema-specifications==2023.12.1\n",
            "jupyter_client==8.6.2\n",
            "jupyter_core==5.7.2\n",
            "kiwisolver==1.4.5\n",
            "markdown-it-py==3.0.0\n",
            "MarkupSafe==2.1.5\n",
            "matplotlib==3.9.0\n",
            "matplotlib-inline==0.1.7\n",
            "mdurl==0.1.2\n",
            "narwhals==1.9.0\n",
            "nest-asyncio==1.6.0\n",
            "numpy==1.26.4\n",
            "openpyxl==3.1.3\n",
            "packaging==24.0\n",
            "pandas==2.2.2\n",
            "parso==0.8.4\n",
            "pillow==10.3.0\n",
            "platformdirs==4.2.2\n",
            "prompt_toolkit==3.0.45\n",
            "protobuf==5.28.2\n",
            "psutil==5.9.8\n",
            "pure-eval==0.2.2\n",
            "pyarrow==17.0.0\n",
            "pydeck==0.9.1\n",
            "Pygments==2.18.0\n",
            "pyparsing==3.1.2\n",
            "python-dateutil==2.9.0.post0\n",
            "pytz==2024.1\n",
            "pywin32==306\n",
            "pyzmq==26.0.3\n",
            "referencing==0.35.1\n",
            "requests==2.32.3\n",
            "rich==13.9.1\n",
            "rpds-py==0.20.0\n",
            "scikit-learn==1.5.0\n",
            "scipy==1.13.1\n",
            "seaborn==0.13.2\n",
            "six==1.16.0\n",
            "smmap==5.0.1\n",
            "stack-data==0.6.3\n",
            "streamlit==1.39.0\n",
            "tenacity==9.0.0\n",
            "threadpoolctl==3.5.0\n",
            "toml==0.10.2\n",
            "tornado==6.4\n",
            "traitlets==5.14.3\n",
            "typing_extensions==4.12.1\n",
            "tzdata==2024.1\n",
            "urllib3==2.2.3\n",
            "watchdog==5.0.3\n",
            "wcwidth==0.2.13\n"
          ]
        }
      ],
      "source": [
        " pip freeze requirements.txt"
      ]
    },
    {
      "cell_type": "code",
      "execution_count": 34,
      "metadata": {},
      "outputs": [
        {
          "name": "stdout",
          "output_type": "stream",
          "text": [
            "Collecting pipreqs\n",
            "  Downloading pipreqs-0.5.0-py3-none-any.whl.metadata (7.9 kB)\n",
            "Collecting docopt==0.6.2 (from pipreqs)\n",
            "  Downloading docopt-0.6.2.tar.gz (25 kB)\n",
            "  Installing build dependencies: started\n",
            "  Installing build dependencies: finished with status 'done'\n",
            "  Getting requirements to build wheel: started\n",
            "  Getting requirements to build wheel: finished with status 'done'\n",
            "  Preparing metadata (pyproject.toml): started\n",
            "  Preparing metadata (pyproject.toml): finished with status 'done'\n",
            "Collecting ipython==8.12.3 (from pipreqs)\n",
            "  Downloading ipython-8.12.3-py3-none-any.whl.metadata (5.7 kB)\n",
            "Collecting nbconvert<8.0.0,>=7.11.0 (from pipreqs)\n",
            "  Using cached nbconvert-7.16.4-py3-none-any.whl.metadata (8.5 kB)\n",
            "Collecting yarg==0.1.9 (from pipreqs)\n",
            "  Downloading yarg-0.1.9-py2.py3-none-any.whl.metadata (4.6 kB)\n",
            "Collecting backcall (from ipython==8.12.3->pipreqs)\n",
            "  Downloading backcall-0.2.0-py2.py3-none-any.whl.metadata (2.0 kB)\n",
            "Requirement already satisfied: decorator in c:\\users\\laras\\appdata\\local\\packages\\pythonsoftwarefoundation.python.3.11_qbz5n2kfra8p0\\localcache\\local-packages\\python311\\site-packages (from ipython==8.12.3->pipreqs) (5.1.1)\n",
            "Requirement already satisfied: jedi>=0.16 in c:\\users\\laras\\appdata\\local\\packages\\pythonsoftwarefoundation.python.3.11_qbz5n2kfra8p0\\localcache\\local-packages\\python311\\site-packages (from ipython==8.12.3->pipreqs) (0.19.1)\n",
            "Requirement already satisfied: matplotlib-inline in c:\\users\\laras\\appdata\\local\\packages\\pythonsoftwarefoundation.python.3.11_qbz5n2kfra8p0\\localcache\\local-packages\\python311\\site-packages (from ipython==8.12.3->pipreqs) (0.1.7)\n",
            "Collecting pickleshare (from ipython==8.12.3->pipreqs)\n",
            "  Downloading pickleshare-0.7.5-py2.py3-none-any.whl.metadata (1.5 kB)\n",
            "Requirement already satisfied: prompt-toolkit!=3.0.37,<3.1.0,>=3.0.30 in c:\\users\\laras\\appdata\\local\\packages\\pythonsoftwarefoundation.python.3.11_qbz5n2kfra8p0\\localcache\\local-packages\\python311\\site-packages (from ipython==8.12.3->pipreqs) (3.0.45)\n",
            "Requirement already satisfied: pygments>=2.4.0 in c:\\users\\laras\\appdata\\local\\packages\\pythonsoftwarefoundation.python.3.11_qbz5n2kfra8p0\\localcache\\local-packages\\python311\\site-packages (from ipython==8.12.3->pipreqs) (2.18.0)\n",
            "Requirement already satisfied: stack-data in c:\\users\\laras\\appdata\\local\\packages\\pythonsoftwarefoundation.python.3.11_qbz5n2kfra8p0\\localcache\\local-packages\\python311\\site-packages (from ipython==8.12.3->pipreqs) (0.6.3)\n",
            "Requirement already satisfied: traitlets>=5 in c:\\users\\laras\\appdata\\local\\packages\\pythonsoftwarefoundation.python.3.11_qbz5n2kfra8p0\\localcache\\local-packages\\python311\\site-packages (from ipython==8.12.3->pipreqs) (5.14.3)\n",
            "Requirement already satisfied: colorama in c:\\users\\laras\\appdata\\local\\packages\\pythonsoftwarefoundation.python.3.11_qbz5n2kfra8p0\\localcache\\local-packages\\python311\\site-packages (from ipython==8.12.3->pipreqs) (0.4.6)\n",
            "Requirement already satisfied: requests in c:\\users\\laras\\appdata\\local\\packages\\pythonsoftwarefoundation.python.3.11_qbz5n2kfra8p0\\localcache\\local-packages\\python311\\site-packages (from yarg==0.1.9->pipreqs) (2.32.3)\n",
            "Collecting beautifulsoup4 (from nbconvert<8.0.0,>=7.11.0->pipreqs)\n",
            "  Using cached beautifulsoup4-4.12.3-py3-none-any.whl.metadata (3.8 kB)\n",
            "Collecting bleach!=5.0.0 (from nbconvert<8.0.0,>=7.11.0->pipreqs)\n",
            "  Using cached bleach-6.1.0-py3-none-any.whl.metadata (30 kB)\n",
            "Collecting defusedxml (from nbconvert<8.0.0,>=7.11.0->pipreqs)\n",
            "  Using cached defusedxml-0.7.1-py2.py3-none-any.whl.metadata (32 kB)\n",
            "Requirement already satisfied: jinja2>=3.0 in c:\\users\\laras\\appdata\\local\\packages\\pythonsoftwarefoundation.python.3.11_qbz5n2kfra8p0\\localcache\\local-packages\\python311\\site-packages (from nbconvert<8.0.0,>=7.11.0->pipreqs) (3.1.4)\n",
            "Requirement already satisfied: jupyter-core>=4.7 in c:\\users\\laras\\appdata\\local\\packages\\pythonsoftwarefoundation.python.3.11_qbz5n2kfra8p0\\localcache\\local-packages\\python311\\site-packages (from nbconvert<8.0.0,>=7.11.0->pipreqs) (5.7.2)\n",
            "Collecting jupyterlab-pygments (from nbconvert<8.0.0,>=7.11.0->pipreqs)\n",
            "  Using cached jupyterlab_pygments-0.3.0-py3-none-any.whl.metadata (4.4 kB)\n",
            "Requirement already satisfied: markupsafe>=2.0 in c:\\users\\laras\\appdata\\local\\packages\\pythonsoftwarefoundation.python.3.11_qbz5n2kfra8p0\\localcache\\local-packages\\python311\\site-packages (from nbconvert<8.0.0,>=7.11.0->pipreqs) (2.1.5)\n",
            "Collecting mistune<4,>=2.0.3 (from nbconvert<8.0.0,>=7.11.0->pipreqs)\n",
            "  Using cached mistune-3.0.2-py3-none-any.whl.metadata (1.7 kB)\n",
            "Collecting nbclient>=0.5.0 (from nbconvert<8.0.0,>=7.11.0->pipreqs)\n",
            "  Using cached nbclient-0.10.0-py3-none-any.whl.metadata (7.8 kB)\n",
            "Collecting nbformat>=5.7 (from nbconvert<8.0.0,>=7.11.0->pipreqs)\n",
            "  Using cached nbformat-5.10.4-py3-none-any.whl.metadata (3.6 kB)\n",
            "Requirement already satisfied: packaging in c:\\users\\laras\\appdata\\local\\packages\\pythonsoftwarefoundation.python.3.11_qbz5n2kfra8p0\\localcache\\local-packages\\python311\\site-packages (from nbconvert<8.0.0,>=7.11.0->pipreqs) (24.0)\n",
            "Collecting pandocfilters>=1.4.1 (from nbconvert<8.0.0,>=7.11.0->pipreqs)\n",
            "  Using cached pandocfilters-1.5.1-py2.py3-none-any.whl.metadata (9.0 kB)\n",
            "Collecting tinycss2 (from nbconvert<8.0.0,>=7.11.0->pipreqs)\n",
            "  Using cached tinycss2-1.3.0-py3-none-any.whl.metadata (3.0 kB)\n",
            "Requirement already satisfied: six>=1.9.0 in c:\\users\\laras\\appdata\\local\\packages\\pythonsoftwarefoundation.python.3.11_qbz5n2kfra8p0\\localcache\\local-packages\\python311\\site-packages (from bleach!=5.0.0->nbconvert<8.0.0,>=7.11.0->pipreqs) (1.16.0)\n",
            "Collecting webencodings (from bleach!=5.0.0->nbconvert<8.0.0,>=7.11.0->pipreqs)\n",
            "  Using cached webencodings-0.5.1-py2.py3-none-any.whl.metadata (2.1 kB)\n",
            "Requirement already satisfied: parso<0.9.0,>=0.8.3 in c:\\users\\laras\\appdata\\local\\packages\\pythonsoftwarefoundation.python.3.11_qbz5n2kfra8p0\\localcache\\local-packages\\python311\\site-packages (from jedi>=0.16->ipython==8.12.3->pipreqs) (0.8.4)\n",
            "Requirement already satisfied: platformdirs>=2.5 in c:\\users\\laras\\appdata\\local\\packages\\pythonsoftwarefoundation.python.3.11_qbz5n2kfra8p0\\localcache\\local-packages\\python311\\site-packages (from jupyter-core>=4.7->nbconvert<8.0.0,>=7.11.0->pipreqs) (4.2.2)\n",
            "Requirement already satisfied: pywin32>=300 in c:\\users\\laras\\appdata\\local\\packages\\pythonsoftwarefoundation.python.3.11_qbz5n2kfra8p0\\localcache\\local-packages\\python311\\site-packages (from jupyter-core>=4.7->nbconvert<8.0.0,>=7.11.0->pipreqs) (306)\n",
            "Requirement already satisfied: jupyter-client>=6.1.12 in c:\\users\\laras\\appdata\\local\\packages\\pythonsoftwarefoundation.python.3.11_qbz5n2kfra8p0\\localcache\\local-packages\\python311\\site-packages (from nbclient>=0.5.0->nbconvert<8.0.0,>=7.11.0->pipreqs) (8.6.2)\n",
            "Collecting fastjsonschema>=2.15 (from nbformat>=5.7->nbconvert<8.0.0,>=7.11.0->pipreqs)\n",
            "  Using cached fastjsonschema-2.20.0-py3-none-any.whl.metadata (2.1 kB)\n",
            "Requirement already satisfied: jsonschema>=2.6 in c:\\users\\laras\\appdata\\local\\packages\\pythonsoftwarefoundation.python.3.11_qbz5n2kfra8p0\\localcache\\local-packages\\python311\\site-packages (from nbformat>=5.7->nbconvert<8.0.0,>=7.11.0->pipreqs) (4.23.0)\n",
            "Requirement already satisfied: wcwidth in c:\\users\\laras\\appdata\\local\\packages\\pythonsoftwarefoundation.python.3.11_qbz5n2kfra8p0\\localcache\\local-packages\\python311\\site-packages (from prompt-toolkit!=3.0.37,<3.1.0,>=3.0.30->ipython==8.12.3->pipreqs) (0.2.13)\n",
            "Collecting soupsieve>1.2 (from beautifulsoup4->nbconvert<8.0.0,>=7.11.0->pipreqs)\n",
            "  Using cached soupsieve-2.6-py3-none-any.whl.metadata (4.6 kB)\n",
            "Requirement already satisfied: charset-normalizer<4,>=2 in c:\\users\\laras\\appdata\\local\\packages\\pythonsoftwarefoundation.python.3.11_qbz5n2kfra8p0\\localcache\\local-packages\\python311\\site-packages (from requests->yarg==0.1.9->pipreqs) (3.3.2)\n",
            "Requirement already satisfied: idna<4,>=2.5 in c:\\users\\laras\\appdata\\local\\packages\\pythonsoftwarefoundation.python.3.11_qbz5n2kfra8p0\\localcache\\local-packages\\python311\\site-packages (from requests->yarg==0.1.9->pipreqs) (3.10)\n",
            "Requirement already satisfied: urllib3<3,>=1.21.1 in c:\\users\\laras\\appdata\\local\\packages\\pythonsoftwarefoundation.python.3.11_qbz5n2kfra8p0\\localcache\\local-packages\\python311\\site-packages (from requests->yarg==0.1.9->pipreqs) (2.2.3)\n",
            "Requirement already satisfied: certifi>=2017.4.17 in c:\\users\\laras\\appdata\\local\\packages\\pythonsoftwarefoundation.python.3.11_qbz5n2kfra8p0\\localcache\\local-packages\\python311\\site-packages (from requests->yarg==0.1.9->pipreqs) (2024.8.30)\n",
            "Requirement already satisfied: executing>=1.2.0 in c:\\users\\laras\\appdata\\local\\packages\\pythonsoftwarefoundation.python.3.11_qbz5n2kfra8p0\\localcache\\local-packages\\python311\\site-packages (from stack-data->ipython==8.12.3->pipreqs) (2.0.1)\n",
            "Requirement already satisfied: asttokens>=2.1.0 in c:\\users\\laras\\appdata\\local\\packages\\pythonsoftwarefoundation.python.3.11_qbz5n2kfra8p0\\localcache\\local-packages\\python311\\site-packages (from stack-data->ipython==8.12.3->pipreqs) (2.4.1)\n",
            "Requirement already satisfied: pure-eval in c:\\users\\laras\\appdata\\local\\packages\\pythonsoftwarefoundation.python.3.11_qbz5n2kfra8p0\\localcache\\local-packages\\python311\\site-packages (from stack-data->ipython==8.12.3->pipreqs) (0.2.2)\n",
            "Requirement already satisfied: attrs>=22.2.0 in c:\\users\\laras\\appdata\\local\\packages\\pythonsoftwarefoundation.python.3.11_qbz5n2kfra8p0\\localcache\\local-packages\\python311\\site-packages (from jsonschema>=2.6->nbformat>=5.7->nbconvert<8.0.0,>=7.11.0->pipreqs) (24.2.0)\n",
            "Requirement already satisfied: jsonschema-specifications>=2023.03.6 in c:\\users\\laras\\appdata\\local\\packages\\pythonsoftwarefoundation.python.3.11_qbz5n2kfra8p0\\localcache\\local-packages\\python311\\site-packages (from jsonschema>=2.6->nbformat>=5.7->nbconvert<8.0.0,>=7.11.0->pipreqs) (2023.12.1)\n",
            "Requirement already satisfied: referencing>=0.28.4 in c:\\users\\laras\\appdata\\local\\packages\\pythonsoftwarefoundation.python.3.11_qbz5n2kfra8p0\\localcache\\local-packages\\python311\\site-packages (from jsonschema>=2.6->nbformat>=5.7->nbconvert<8.0.0,>=7.11.0->pipreqs) (0.35.1)\n",
            "Requirement already satisfied: rpds-py>=0.7.1 in c:\\users\\laras\\appdata\\local\\packages\\pythonsoftwarefoundation.python.3.11_qbz5n2kfra8p0\\localcache\\local-packages\\python311\\site-packages (from jsonschema>=2.6->nbformat>=5.7->nbconvert<8.0.0,>=7.11.0->pipreqs) (0.20.0)\n",
            "Requirement already satisfied: python-dateutil>=2.8.2 in c:\\users\\laras\\appdata\\local\\packages\\pythonsoftwarefoundation.python.3.11_qbz5n2kfra8p0\\localcache\\local-packages\\python311\\site-packages (from jupyter-client>=6.1.12->nbclient>=0.5.0->nbconvert<8.0.0,>=7.11.0->pipreqs) (2.9.0.post0)\n",
            "Requirement already satisfied: pyzmq>=23.0 in c:\\users\\laras\\appdata\\local\\packages\\pythonsoftwarefoundation.python.3.11_qbz5n2kfra8p0\\localcache\\local-packages\\python311\\site-packages (from jupyter-client>=6.1.12->nbclient>=0.5.0->nbconvert<8.0.0,>=7.11.0->pipreqs) (26.0.3)\n",
            "Requirement already satisfied: tornado>=6.2 in c:\\users\\laras\\appdata\\local\\packages\\pythonsoftwarefoundation.python.3.11_qbz5n2kfra8p0\\localcache\\local-packages\\python311\\site-packages (from jupyter-client>=6.1.12->nbclient>=0.5.0->nbconvert<8.0.0,>=7.11.0->pipreqs) (6.4)\n",
            "Downloading pipreqs-0.5.0-py3-none-any.whl (33 kB)\n",
            "Downloading ipython-8.12.3-py3-none-any.whl (798 kB)\n",
            "   ---------------------------------------- 0.0/798.3 kB ? eta -:--:--\n",
            "   ------------- -------------------------- 262.1/798.3 kB ? eta -:--:--\n",
            "   -------------------------- ------------- 524.3/798.3 kB 1.2 MB/s eta 0:00:01\n",
            "   ---------------------------------------- 798.3/798.3 kB 1.1 MB/s eta 0:00:00\n",
            "Downloading yarg-0.1.9-py2.py3-none-any.whl (19 kB)\n",
            "Using cached nbconvert-7.16.4-py3-none-any.whl (257 kB)\n",
            "Using cached bleach-6.1.0-py3-none-any.whl (162 kB)\n",
            "Using cached mistune-3.0.2-py3-none-any.whl (47 kB)\n",
            "Using cached nbclient-0.10.0-py3-none-any.whl (25 kB)\n",
            "Using cached nbformat-5.10.4-py3-none-any.whl (78 kB)\n",
            "Using cached pandocfilters-1.5.1-py2.py3-none-any.whl (8.7 kB)\n",
            "Downloading backcall-0.2.0-py2.py3-none-any.whl (11 kB)\n",
            "Using cached beautifulsoup4-4.12.3-py3-none-any.whl (147 kB)\n",
            "Using cached defusedxml-0.7.1-py2.py3-none-any.whl (25 kB)\n",
            "Using cached jupyterlab_pygments-0.3.0-py3-none-any.whl (15 kB)\n",
            "Downloading pickleshare-0.7.5-py2.py3-none-any.whl (6.9 kB)\n",
            "Using cached tinycss2-1.3.0-py3-none-any.whl (22 kB)\n",
            "Using cached fastjsonschema-2.20.0-py3-none-any.whl (23 kB)\n",
            "Using cached soupsieve-2.6-py3-none-any.whl (36 kB)\n",
            "Using cached webencodings-0.5.1-py2.py3-none-any.whl (11 kB)\n",
            "Building wheels for collected packages: docopt\n",
            "  Building wheel for docopt (pyproject.toml): started\n",
            "  Building wheel for docopt (pyproject.toml): finished with status 'done'\n",
            "  Created wheel for docopt: filename=docopt-0.6.2-py2.py3-none-any.whl size=13775 sha256=351564a85b3316279b6aff0064b6ade958c56e083343f2612d52de6c693aa655\n",
            "  Stored in directory: c:\\users\\laras\\appdata\\local\\pip\\cache\\wheels\\1a\\b0\\8c\\4b75c4116c31f83c8f9f047231251e13cc74481cca4a78a9ce\n",
            "Successfully built docopt\n",
            "Installing collected packages: webencodings, pickleshare, fastjsonschema, docopt, backcall, tinycss2, soupsieve, pandocfilters, mistune, jupyterlab-pygments, defusedxml, bleach, yarg, beautifulsoup4, ipython, nbformat, nbclient, nbconvert, pipreqs\n",
            "  Attempting uninstall: ipython\n",
            "    Found existing installation: ipython 8.25.0\n",
            "    Uninstalling ipython-8.25.0:\n",
            "      Successfully uninstalled ipython-8.25.0\n",
            "Successfully installed backcall-0.2.0 beautifulsoup4-4.12.3 bleach-6.1.0 defusedxml-0.7.1 docopt-0.6.2 fastjsonschema-2.20.0 ipython-8.12.3 jupyterlab-pygments-0.3.0 mistune-3.0.2 nbclient-0.10.0 nbconvert-7.16.4 nbformat-5.10.4 pandocfilters-1.5.1 pickleshare-0.7.5 pipreqs-0.5.0 soupsieve-2.6 tinycss2-1.3.0 webencodings-0.5.1 yarg-0.1.9\n",
            "Note: you may need to restart the kernel to use updated packages.\n"
          ]
        }
      ],
      "source": [
        "pip install pipreqs"
      ]
    },
    {
      "cell_type": "code",
      "execution_count": 35,
      "metadata": {},
      "outputs": [
        {
          "ename": "NameError",
          "evalue": "name 'pipreqs' is not defined",
          "output_type": "error",
          "traceback": [
            "\u001b[1;31m---------------------------------------------------------------------------\u001b[0m",
            "\u001b[1;31mNameError\u001b[0m                                 Traceback (most recent call last)",
            "Cell \u001b[1;32mIn[35], line 1\u001b[0m\n\u001b[1;32m----> 1\u001b[0m \u001b[43mpipreqs\u001b[49m \u001b[38;5;241m/\u001b[39mUsers\u001b[38;5;241m/\u001b[39mlaras\u001b[38;5;241m/\u001b[39mproyek_analisis_data\u001b[38;5;241m/\u001b[39mProyek_Analisis_Data\u001b[38;5;241m.\u001b[39mipynb\n",
            "\u001b[1;31mNameError\u001b[0m: name 'pipreqs' is not defined"
          ]
        }
      ],
      "source": [
        "pipreqs /Users/laras/proyek_analisis_data/Proyek_Analisis_Data.ipynb"
      ]
    },
    {
      "cell_type": "code",
      "execution_count": null,
      "metadata": {},
      "outputs": [],
      "source": []
    }
  ],
  "metadata": {
    "colab": {
      "provenance": []
    },
    "kernelspec": {
      "display_name": "Python 3",
      "language": "python",
      "name": "python3"
    },
    "language_info": {
      "codemirror_mode": {
        "name": "ipython",
        "version": 3
      },
      "file_extension": ".py",
      "mimetype": "text/x-python",
      "name": "python",
      "nbconvert_exporter": "python",
      "pygments_lexer": "ipython3",
      "version": "3.11.9"
    },
    "orig_nbformat": 4,
    "vscode": {
      "interpreter": {
        "hash": "972b3bf27e332e87b5379f2791f6ef9dfc79c71018c370b0d7423235e20fe4d7"
      }
    }
  },
  "nbformat": 4,
  "nbformat_minor": 0
}
